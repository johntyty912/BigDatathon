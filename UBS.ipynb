{
 "cells": [
  {
   "cell_type": "code",
   "execution_count": 1,
   "metadata": {},
   "outputs": [
    {
     "name": "stderr",
     "output_type": "stream",
     "text": [
      "C:\\Users\\edwin\\Anaconda3\\lib\\site-packages\\h5py\\__init__.py:36: FutureWarning: Conversion of the second argument of issubdtype from `float` to `np.floating` is deprecated. In future, it will be treated as `np.float64 == np.dtype(float).type`.\n",
      "  from ._conv import register_converters as _register_converters\n",
      "Using TensorFlow backend.\n"
     ]
    }
   ],
   "source": [
    "import jieba\n",
    "import glob\n",
    "import json\n",
    "import pandas as pd\n",
    "from pprint import pprint\n",
    "import gc\n",
    "\n",
    "import matplotlib.pyplot as plt\n",
    "\n",
    "import numpy as np\n",
    "\n",
    "import seaborn as sns\n",
    "\n",
    "from sklearn.model_selection import train_test_split\n",
    "\n",
    "from keras.preprocessing.text import Tokenizer\n",
    "from keras.preprocessing.sequence import pad_sequences\n",
    "from keras.models import Sequential\n",
    "from keras.layers import Dense\n",
    "from keras.layers import Flatten\n",
    "from keras.layers import Embedding\n",
    "from keras.optimizers import Adam\n",
    "from keras.layers import BatchNormalization, Flatten, Conv1D, MaxPooling1D\n",
    "from keras.layers import Dropout\n",
    "from keras.layers import Input\n",
    "from keras.callbacks import EarlyStopping, ModelCheckpoint, ReduceLROnPlateau\n",
    "\n",
    "import keras\n",
    "from keras.models import Model\n",
    "from keras.models import load_model\n",
    "\n",
    "pd.set_option('max_colwidth', 30)"
   ]
  },
  {
   "cell_type": "code",
   "execution_count": 2,
   "metadata": {},
   "outputs": [
    {
     "name": "stderr",
     "output_type": "stream",
     "text": [
      "Building prefix dict from the default dictionary ...\n",
      "Loading model from cache C:\\Users\\edwin\\AppData\\Local\\Temp\\jieba.cache\n",
      "Loading model cost 1.356 seconds.\n",
      "Prefix dict has been built succesfully.\n"
     ]
    },
    {
     "name": "stdout",
     "output_type": "stream",
     "text": [
      "小明, 硕士, 毕业, 于, 中国, 科学, 学院, 科学院, 中国科学院, 计算, 计算所, ，, 后, 在, 日本, 京都, 大学, 日本京都大学, 深造\n"
     ]
    }
   ],
   "source": [
    "seg_list = jieba.cut_for_search(\"小明硕士毕业于中国科学院计算所，后在日本京都大学深造\")  # 搜索引擎模式\n",
    "print(\", \".join(seg_list))"
   ]
  },
  {
   "cell_type": "code",
   "execution_count": 3,
   "metadata": {},
   "outputs": [],
   "source": [
    "files = glob.glob('UBS Weibo Data//weibo//Status_Data[1-8].json')\n",
    "df1 = pd.read_json(files[0], encoding= 'UTF-8')\n",
    "for i in files[1:]:\n",
    "    try:\n",
    "        df1 = df1.append(pd.read_json(i, encoding= 'UTF-8'),ignore_index=True)\n",
    "    except:\n",
    "        print(i)"
   ]
  },
  {
   "cell_type": "code",
   "execution_count": 4,
   "metadata": {},
   "outputs": [],
   "source": [
    "df1.drop_duplicates(inplace=True)"
   ]
  },
  {
   "cell_type": "code",
   "execution_count": 5,
   "metadata": {},
   "outputs": [],
   "source": [
    "import re\n",
    "def clean(s):\n",
    "    ns = re.sub(r'^https?:\\/\\/.*[\\r\\n]*', '', s, flags=re.MULTILINE)\n",
    "    return re.sub(r'[^\\u4e00-\\u9fa5]', '', ns)"
   ]
  },
  {
   "cell_type": "code",
   "execution_count": 6,
   "metadata": {},
   "outputs": [],
   "source": [
    "df1['clean_text'] = df1['text'].apply(clean)"
   ]
  },
  {
   "cell_type": "code",
   "execution_count": 7,
   "metadata": {},
   "outputs": [
    {
     "data": {
      "text/plain": [
       "(6225, 9)"
      ]
     },
     "execution_count": 7,
     "metadata": {},
     "output_type": "execute_result"
    }
   ],
   "source": [
    "df1.shape"
   ]
  },
  {
   "cell_type": "code",
   "execution_count": 8,
   "metadata": {},
   "outputs": [
    {
     "data": {
      "text/html": [
       "<div>\n",
       "<style scoped>\n",
       "    .dataframe tbody tr th:only-of-type {\n",
       "        vertical-align: middle;\n",
       "    }\n",
       "\n",
       "    .dataframe tbody tr th {\n",
       "        vertical-align: top;\n",
       "    }\n",
       "\n",
       "    .dataframe thead th {\n",
       "        text-align: right;\n",
       "    }\n",
       "</style>\n",
       "<table border=\"1\" class=\"dataframe\">\n",
       "  <thead>\n",
       "    <tr style=\"text-align: right;\">\n",
       "      <th></th>\n",
       "      <th>comments_count</th>\n",
       "      <th>created_at</th>\n",
       "      <th>id</th>\n",
       "      <th>likes_count</th>\n",
       "      <th>retweets_count</th>\n",
       "      <th>status_urls</th>\n",
       "      <th>text</th>\n",
       "      <th>user_id</th>\n",
       "      <th>clean_text</th>\n",
       "    </tr>\n",
       "  </thead>\n",
       "  <tbody>\n",
       "    <tr>\n",
       "      <th>0</th>\n",
       "      <td>2</td>\n",
       "      <td>2015-11-05 16:40:00</td>\n",
       "      <td>D2sqd8hxB</td>\n",
       "      <td>4</td>\n",
       "      <td>9</td>\n",
       "      <td>https://weibo.cn/sinaurl?f...</td>\n",
       "      <td>:@世锦赛汇丰冠军赛 战罢首轮。美国公开赛黑马南非球...</td>\n",
       "      <td>1497996114</td>\n",
       "      <td>世锦赛汇丰冠军赛战罢首轮美国公开赛黑马南非球手布兰登...</td>\n",
       "    </tr>\n",
       "    <tr>\n",
       "      <th>1</th>\n",
       "      <td>1</td>\n",
       "      <td>2015-11-05 14:38:00</td>\n",
       "      <td>D2rCGFUkX</td>\n",
       "      <td>3</td>\n",
       "      <td>1</td>\n",
       "      <td>https://weibo.cn/sinaurl?f...</td>\n",
       "      <td>:佘山4号洞，2013年@世锦赛汇丰冠军赛 冠军达斯...</td>\n",
       "      <td>1497996114</td>\n",
       "      <td>佘山号洞年世锦赛汇丰冠军赛冠军达斯汀约翰逊差点上演一...</td>\n",
       "    </tr>\n",
       "    <tr>\n",
       "      <th>2</th>\n",
       "      <td>1</td>\n",
       "      <td>2015-11-05 14:18:00</td>\n",
       "      <td>D2ruEc4qv</td>\n",
       "      <td>8</td>\n",
       "      <td>4</td>\n",
       "      <td>https://weibo.cn/sinaurl?f...</td>\n",
       "      <td>:世锦赛-汇丰冠军赛展开首日争夺，中国军团六将梁文冲...</td>\n",
       "      <td>1497996114</td>\n",
       "      <td>世锦赛汇丰冠军赛展开首日争夺中国军团六将梁文冲吴阿顺...</td>\n",
       "    </tr>\n",
       "    <tr>\n",
       "      <th>3</th>\n",
       "      <td>1</td>\n",
       "      <td>2017-06-02 10:33:00</td>\n",
       "      <td>F5VQ77jUQ</td>\n",
       "      <td>5</td>\n",
       "      <td>2</td>\n",
       "      <td>http://weibo.cn/pages/1008...</td>\n",
       "      <td>:美巡#纪念高球赛# 首轮最佳球来自瑞奇-福勒18号...</td>\n",
       "      <td>1497996114</td>\n",
       "      <td>美巡纪念高球赛首轮最佳球来自瑞奇福勒号洞果岭沙坑切球...</td>\n",
       "    </tr>\n",
       "    <tr>\n",
       "      <th>4</th>\n",
       "      <td>0</td>\n",
       "      <td>2017-06-02 09:54:00</td>\n",
       "      <td>F5VAappkl</td>\n",
       "      <td>4</td>\n",
       "      <td>0</td>\n",
       "      <td>https://weibo.cn/sinaurl?f...</td>\n",
       "      <td>:威巡REX医院公开赛首轮，@张新军golf 开局连...</td>\n",
       "      <td>1497996114</td>\n",
       "      <td>威巡医院公开赛首轮张新军开局连续抓到只小鸟最终交出杆...</td>\n",
       "    </tr>\n",
       "  </tbody>\n",
       "</table>\n",
       "</div>"
      ],
      "text/plain": [
       "   comments_count          created_at         id  likes_count  retweets_count  \\\n",
       "0               2 2015-11-05 16:40:00  D2sqd8hxB            4               9   \n",
       "1               1 2015-11-05 14:38:00  D2rCGFUkX            3               1   \n",
       "2               1 2015-11-05 14:18:00  D2ruEc4qv            8               4   \n",
       "3               1 2017-06-02 10:33:00  F5VQ77jUQ            5               2   \n",
       "4               0 2017-06-02 09:54:00  F5VAappkl            4               0   \n",
       "\n",
       "                     status_urls                           text     user_id  \\\n",
       "0  https://weibo.cn/sinaurl?f...  :@世锦赛汇丰冠军赛 战罢首轮。美国公开赛黑马南非球...  1497996114   \n",
       "1  https://weibo.cn/sinaurl?f...  :佘山4号洞，2013年@世锦赛汇丰冠军赛 冠军达斯...  1497996114   \n",
       "2  https://weibo.cn/sinaurl?f...  :世锦赛-汇丰冠军赛展开首日争夺，中国军团六将梁文冲...  1497996114   \n",
       "3  http://weibo.cn/pages/1008...  :美巡#纪念高球赛# 首轮最佳球来自瑞奇-福勒18号...  1497996114   \n",
       "4  https://weibo.cn/sinaurl?f...  :威巡REX医院公开赛首轮，@张新军golf 开局连...  1497996114   \n",
       "\n",
       "                      clean_text  \n",
       "0  世锦赛汇丰冠军赛战罢首轮美国公开赛黑马南非球手布兰登...  \n",
       "1  佘山号洞年世锦赛汇丰冠军赛冠军达斯汀约翰逊差点上演一...  \n",
       "2  世锦赛汇丰冠军赛展开首日争夺中国军团六将梁文冲吴阿顺...  \n",
       "3  美巡纪念高球赛首轮最佳球来自瑞奇福勒号洞果岭沙坑切球...  \n",
       "4  威巡医院公开赛首轮张新军开局连续抓到只小鸟最终交出杆...  "
      ]
     },
     "execution_count": 8,
     "metadata": {},
     "output_type": "execute_result"
    }
   ],
   "source": [
    "df1.head()"
   ]
  },
  {
   "cell_type": "code",
   "execution_count": 9,
   "metadata": {},
   "outputs": [],
   "source": [
    "uid_dum = pd.get_dummies(df1.user_id)"
   ]
  },
  {
   "cell_type": "code",
   "execution_count": 10,
   "metadata": {},
   "outputs": [],
   "source": [
    "df1 = pd.merge(df1,uid_dum, left_index=True, right_index=True)"
   ]
  },
  {
   "cell_type": "code",
   "execution_count": 11,
   "metadata": {},
   "outputs": [],
   "source": [
    "label = pd.read_csv('UBS Weibo Data//weibo//train_label.txt', sep='\\t', header=None, names=['id','useless','label'])"
   ]
  },
  {
   "cell_type": "code",
   "execution_count": 12,
   "metadata": {},
   "outputs": [],
   "source": [
    "label.drop(columns='useless', inplace=True)"
   ]
  },
  {
   "cell_type": "code",
   "execution_count": 13,
   "metadata": {},
   "outputs": [
    {
     "data": {
      "text/plain": [
       "(1230, 2)"
      ]
     },
     "execution_count": 13,
     "metadata": {},
     "output_type": "execute_result"
    }
   ],
   "source": [
    "label.shape"
   ]
  },
  {
   "cell_type": "code",
   "execution_count": 14,
   "metadata": {},
   "outputs": [
    {
     "data": {
      "text/html": [
       "<div>\n",
       "<style scoped>\n",
       "    .dataframe tbody tr th:only-of-type {\n",
       "        vertical-align: middle;\n",
       "    }\n",
       "\n",
       "    .dataframe tbody tr th {\n",
       "        vertical-align: top;\n",
       "    }\n",
       "\n",
       "    .dataframe thead th {\n",
       "        text-align: right;\n",
       "    }\n",
       "</style>\n",
       "<table border=\"1\" class=\"dataframe\">\n",
       "  <thead>\n",
       "    <tr style=\"text-align: right;\">\n",
       "      <th></th>\n",
       "      <th>id</th>\n",
       "      <th>label</th>\n",
       "    </tr>\n",
       "  </thead>\n",
       "  <tbody>\n",
       "    <tr>\n",
       "      <th>0</th>\n",
       "      <td>zDmYsgBUj</td>\n",
       "      <td>1</td>\n",
       "    </tr>\n",
       "    <tr>\n",
       "      <th>1</th>\n",
       "      <td>A6xDl9OxK</td>\n",
       "      <td>10</td>\n",
       "    </tr>\n",
       "    <tr>\n",
       "      <th>2</th>\n",
       "      <td>G9Kvsuqb0</td>\n",
       "      <td>6</td>\n",
       "    </tr>\n",
       "    <tr>\n",
       "      <th>3</th>\n",
       "      <td>GfESp97V3</td>\n",
       "      <td>4</td>\n",
       "    </tr>\n",
       "    <tr>\n",
       "      <th>4</th>\n",
       "      <td>FFHya1f4H</td>\n",
       "      <td>6</td>\n",
       "    </tr>\n",
       "    <tr>\n",
       "      <th>5</th>\n",
       "      <td>D3WwHt9ts</td>\n",
       "      <td>9</td>\n",
       "    </tr>\n",
       "    <tr>\n",
       "      <th>6</th>\n",
       "      <td>F7uSa36lV</td>\n",
       "      <td>9</td>\n",
       "    </tr>\n",
       "    <tr>\n",
       "      <th>7</th>\n",
       "      <td>F6iBLxOme</td>\n",
       "      <td>9</td>\n",
       "    </tr>\n",
       "    <tr>\n",
       "      <th>8</th>\n",
       "      <td>GeKvBj0B7</td>\n",
       "      <td>0</td>\n",
       "    </tr>\n",
       "    <tr>\n",
       "      <th>9</th>\n",
       "      <td>Fw9iw4FxD</td>\n",
       "      <td>8</td>\n",
       "    </tr>\n",
       "  </tbody>\n",
       "</table>\n",
       "</div>"
      ],
      "text/plain": [
       "          id  label\n",
       "0  zDmYsgBUj      1\n",
       "1  A6xDl9OxK     10\n",
       "2  G9Kvsuqb0      6\n",
       "3  GfESp97V3      4\n",
       "4  FFHya1f4H      6\n",
       "5  D3WwHt9ts      9\n",
       "6  F7uSa36lV      9\n",
       "7  F6iBLxOme      9\n",
       "8  GeKvBj0B7      0\n",
       "9  Fw9iw4FxD      8"
      ]
     },
     "execution_count": 14,
     "metadata": {},
     "output_type": "execute_result"
    }
   ],
   "source": [
    "label.head(10)"
   ]
  },
  {
   "cell_type": "code",
   "execution_count": 15,
   "metadata": {},
   "outputs": [],
   "source": [
    "train = pd.merge(label,df1,on=\"id\")"
   ]
  },
  {
   "cell_type": "code",
   "execution_count": 16,
   "metadata": {},
   "outputs": [
    {
     "data": {
      "text/plain": [
       "(1230, 18)"
      ]
     },
     "execution_count": 16,
     "metadata": {},
     "output_type": "execute_result"
    }
   ],
   "source": [
    "train.shape"
   ]
  },
  {
   "cell_type": "code",
   "execution_count": 17,
   "metadata": {},
   "outputs": [
    {
     "data": {
      "text/html": [
       "<div>\n",
       "<style scoped>\n",
       "    .dataframe tbody tr th:only-of-type {\n",
       "        vertical-align: middle;\n",
       "    }\n",
       "\n",
       "    .dataframe tbody tr th {\n",
       "        vertical-align: top;\n",
       "    }\n",
       "\n",
       "    .dataframe thead th {\n",
       "        text-align: right;\n",
       "    }\n",
       "</style>\n",
       "<table border=\"1\" class=\"dataframe\">\n",
       "  <thead>\n",
       "    <tr style=\"text-align: right;\">\n",
       "      <th></th>\n",
       "      <th>id</th>\n",
       "      <th>label</th>\n",
       "      <th>comments_count</th>\n",
       "      <th>created_at</th>\n",
       "      <th>likes_count</th>\n",
       "      <th>retweets_count</th>\n",
       "      <th>status_urls</th>\n",
       "      <th>text</th>\n",
       "      <th>user_id</th>\n",
       "      <th>clean_text</th>\n",
       "      <th>1497996114</th>\n",
       "      <th>1628009324</th>\n",
       "      <th>1881938674</th>\n",
       "      <th>1895520105</th>\n",
       "      <th>1988800805</th>\n",
       "      <th>2308351693</th>\n",
       "      <th>2807239535</th>\n",
       "      <th>5563089830</th>\n",
       "    </tr>\n",
       "  </thead>\n",
       "  <tbody>\n",
       "    <tr>\n",
       "      <th>0</th>\n",
       "      <td>zDmYsgBUj</td>\n",
       "      <td>1</td>\n",
       "      <td>2</td>\n",
       "      <td>2013-06-27 15:52:00</td>\n",
       "      <td>0</td>\n",
       "      <td>1</td>\n",
       "      <td>https://weibo.cn/sinaurl?f...</td>\n",
       "      <td>:【日本基金吸引大量看涨交易】日本智慧树股票型对冲基...</td>\n",
       "      <td>1628009324</td>\n",
       "      <td>日本基金吸引大量看涨交易日本智慧树股票型对冲基金今年...</td>\n",
       "      <td>0</td>\n",
       "      <td>1</td>\n",
       "      <td>0</td>\n",
       "      <td>0</td>\n",
       "      <td>0</td>\n",
       "      <td>0</td>\n",
       "      <td>0</td>\n",
       "      <td>0</td>\n",
       "    </tr>\n",
       "    <tr>\n",
       "      <th>1</th>\n",
       "      <td>A6xDl9OxK</td>\n",
       "      <td>10</td>\n",
       "      <td>141</td>\n",
       "      <td>2013-08-26 17:05:00</td>\n",
       "      <td>11</td>\n",
       "      <td>253</td>\n",
       "      <td>https://weibo.cn/sinaurl?f...</td>\n",
       "      <td>:【1299元！小米Pad“紫米”独家真机曝光】据知...</td>\n",
       "      <td>1895520105</td>\n",
       "      <td>元小米紫米独家真机曝光据知情人士爆料之前传闻已久的小...</td>\n",
       "      <td>0</td>\n",
       "      <td>0</td>\n",
       "      <td>0</td>\n",
       "      <td>1</td>\n",
       "      <td>0</td>\n",
       "      <td>0</td>\n",
       "      <td>0</td>\n",
       "      <td>0</td>\n",
       "    </tr>\n",
       "    <tr>\n",
       "      <th>2</th>\n",
       "      <td>G9Kvsuqb0</td>\n",
       "      <td>6</td>\n",
       "      <td>11</td>\n",
       "      <td>2018-03-30 11:48:00</td>\n",
       "      <td>83</td>\n",
       "      <td>54</td>\n",
       "      <td>http://weibo.cn/pages/1008...</td>\n",
       "      <td>:#重要展讯# 佳士得隆重宣布5月纽约拍卖的佩吉与大...</td>\n",
       "      <td>2807239535</td>\n",
       "      <td>重要展讯佳士得隆重宣布月纽约拍卖的佩吉与大卫洛克菲勒...</td>\n",
       "      <td>0</td>\n",
       "      <td>0</td>\n",
       "      <td>0</td>\n",
       "      <td>0</td>\n",
       "      <td>0</td>\n",
       "      <td>0</td>\n",
       "      <td>1</td>\n",
       "      <td>0</td>\n",
       "    </tr>\n",
       "    <tr>\n",
       "      <th>3</th>\n",
       "      <td>GfESp97V3</td>\n",
       "      <td>4</td>\n",
       "      <td>11</td>\n",
       "      <td>2018-05-08 08:30:00</td>\n",
       "      <td>14</td>\n",
       "      <td>12</td>\n",
       "      <td>https://weibo.cn/sinaurl?f...</td>\n",
       "      <td>:【房产高管薪酬大起底 郁亮年薪1189.9万仅排第...</td>\n",
       "      <td>1988800805</td>\n",
       "      <td>房产高管薪酬大起底郁亮年薪万仅排第二数据显示年房地产...</td>\n",
       "      <td>0</td>\n",
       "      <td>0</td>\n",
       "      <td>0</td>\n",
       "      <td>0</td>\n",
       "      <td>1</td>\n",
       "      <td>0</td>\n",
       "      <td>0</td>\n",
       "      <td>0</td>\n",
       "    </tr>\n",
       "    <tr>\n",
       "      <th>4</th>\n",
       "      <td>FFHya1f4H</td>\n",
       "      <td>6</td>\n",
       "      <td>0</td>\n",
       "      <td>2018-01-23 16:22:00</td>\n",
       "      <td>9</td>\n",
       "      <td>2</td>\n",
       "      <td>http://weibo.cn/pages/1008...</td>\n",
       "      <td>:#海外拍场#在1月30日佳士得纽约“经典大师与英伦...</td>\n",
       "      <td>2807239535</td>\n",
       "      <td>海外拍场在月日佳士得纽约经典大师与英伦绘画主题拍卖会...</td>\n",
       "      <td>0</td>\n",
       "      <td>0</td>\n",
       "      <td>0</td>\n",
       "      <td>0</td>\n",
       "      <td>0</td>\n",
       "      <td>0</td>\n",
       "      <td>1</td>\n",
       "      <td>0</td>\n",
       "    </tr>\n",
       "  </tbody>\n",
       "</table>\n",
       "</div>"
      ],
      "text/plain": [
       "          id  label  comments_count          created_at  likes_count  \\\n",
       "0  zDmYsgBUj      1               2 2013-06-27 15:52:00            0   \n",
       "1  A6xDl9OxK     10             141 2013-08-26 17:05:00           11   \n",
       "2  G9Kvsuqb0      6              11 2018-03-30 11:48:00           83   \n",
       "3  GfESp97V3      4              11 2018-05-08 08:30:00           14   \n",
       "4  FFHya1f4H      6               0 2018-01-23 16:22:00            9   \n",
       "\n",
       "   retweets_count                    status_urls  \\\n",
       "0               1  https://weibo.cn/sinaurl?f...   \n",
       "1             253  https://weibo.cn/sinaurl?f...   \n",
       "2              54  http://weibo.cn/pages/1008...   \n",
       "3              12  https://weibo.cn/sinaurl?f...   \n",
       "4               2  http://weibo.cn/pages/1008...   \n",
       "\n",
       "                            text     user_id                     clean_text  \\\n",
       "0  :【日本基金吸引大量看涨交易】日本智慧树股票型对冲基...  1628009324  日本基金吸引大量看涨交易日本智慧树股票型对冲基金今年...   \n",
       "1  :【1299元！小米Pad“紫米”独家真机曝光】据知...  1895520105  元小米紫米独家真机曝光据知情人士爆料之前传闻已久的小...   \n",
       "2  :#重要展讯# 佳士得隆重宣布5月纽约拍卖的佩吉与大...  2807239535  重要展讯佳士得隆重宣布月纽约拍卖的佩吉与大卫洛克菲勒...   \n",
       "3  :【房产高管薪酬大起底 郁亮年薪1189.9万仅排第...  1988800805  房产高管薪酬大起底郁亮年薪万仅排第二数据显示年房地产...   \n",
       "4  :#海外拍场#在1月30日佳士得纽约“经典大师与英伦...  2807239535  海外拍场在月日佳士得纽约经典大师与英伦绘画主题拍卖会...   \n",
       "\n",
       "   1497996114  1628009324  1881938674  1895520105  1988800805  2308351693  \\\n",
       "0           0           1           0           0           0           0   \n",
       "1           0           0           0           1           0           0   \n",
       "2           0           0           0           0           0           0   \n",
       "3           0           0           0           0           1           0   \n",
       "4           0           0           0           0           0           0   \n",
       "\n",
       "   2807239535  5563089830  \n",
       "0           0           0  \n",
       "1           0           0  \n",
       "2           1           0  \n",
       "3           0           0  \n",
       "4           1           0  "
      ]
     },
     "execution_count": 17,
     "metadata": {},
     "output_type": "execute_result"
    }
   ],
   "source": [
    "train.head(5)"
   ]
  },
  {
   "cell_type": "code",
   "execution_count": 18,
   "metadata": {},
   "outputs": [],
   "source": [
    "test = df1[~df1['id'].isin(train['id'])]"
   ]
  },
  {
   "cell_type": "code",
   "execution_count": 19,
   "metadata": {},
   "outputs": [],
   "source": [
    "text1 = train.iloc[0].clean_text"
   ]
  },
  {
   "cell_type": "code",
   "execution_count": 20,
   "metadata": {},
   "outputs": [
    {
     "name": "stdout",
     "output_type": "stream",
     "text": [
      "Default Mode: 日本/ 基金/ 吸引/ 大量/ 看涨/ 交易/ 日本/ 智慧/ 树/ 股票/ 型/ 对冲/ 基金/ 今年/ 走势/ 多变/ 昨天/ 该/ 看涨/ 期权/ 再度/ 流通\n"
     ]
    }
   ],
   "source": [
    "seg_list = jieba.cut_for_search(text1)\n",
    "print(\"Default Mode: \" + \"/ \".join(seg_list))  # 精确模式"
   ]
  },
  {
   "cell_type": "code",
   "execution_count": 21,
   "metadata": {},
   "outputs": [],
   "source": [
    "w2v = pd.read_csv(\"sgns.weibo.word\", header=None, sep=' ')"
   ]
  },
  {
   "cell_type": "code",
   "execution_count": 22,
   "metadata": {},
   "outputs": [],
   "source": [
    "w2v = w2v.iloc[:,:-1] # ignore the last column with NaN"
   ]
  },
  {
   "cell_type": "code",
   "execution_count": 23,
   "metadata": {},
   "outputs": [
    {
     "data": {
      "text/html": [
       "<div>\n",
       "<style scoped>\n",
       "    .dataframe tbody tr th:only-of-type {\n",
       "        vertical-align: middle;\n",
       "    }\n",
       "\n",
       "    .dataframe tbody tr th {\n",
       "        vertical-align: top;\n",
       "    }\n",
       "\n",
       "    .dataframe thead th {\n",
       "        text-align: right;\n",
       "    }\n",
       "</style>\n",
       "<table border=\"1\" class=\"dataframe\">\n",
       "  <thead>\n",
       "    <tr style=\"text-align: right;\">\n",
       "      <th></th>\n",
       "      <th>0</th>\n",
       "      <th>1</th>\n",
       "      <th>2</th>\n",
       "      <th>3</th>\n",
       "      <th>4</th>\n",
       "      <th>5</th>\n",
       "      <th>6</th>\n",
       "      <th>7</th>\n",
       "      <th>8</th>\n",
       "      <th>9</th>\n",
       "      <th>...</th>\n",
       "      <th>291</th>\n",
       "      <th>292</th>\n",
       "      <th>293</th>\n",
       "      <th>294</th>\n",
       "      <th>295</th>\n",
       "      <th>296</th>\n",
       "      <th>297</th>\n",
       "      <th>298</th>\n",
       "      <th>299</th>\n",
       "      <th>300</th>\n",
       "    </tr>\n",
       "  </thead>\n",
       "  <tbody>\n",
       "    <tr>\n",
       "      <th>0</th>\n",
       "      <td>，</td>\n",
       "      <td>0.094386</td>\n",
       "      <td>-0.200944</td>\n",
       "      <td>-0.030828</td>\n",
       "      <td>0.277130</td>\n",
       "      <td>-0.074674</td>\n",
       "      <td>0.239691</td>\n",
       "      <td>0.345185</td>\n",
       "      <td>0.298053</td>\n",
       "      <td>-0.026679</td>\n",
       "      <td>...</td>\n",
       "      <td>0.111468</td>\n",
       "      <td>-0.078182</td>\n",
       "      <td>-0.201468</td>\n",
       "      <td>-0.049068</td>\n",
       "      <td>-0.030606</td>\n",
       "      <td>0.201523</td>\n",
       "      <td>0.228546</td>\n",
       "      <td>0.003085</td>\n",
       "      <td>0.023796</td>\n",
       "      <td>-0.201742</td>\n",
       "    </tr>\n",
       "    <tr>\n",
       "      <th>1</th>\n",
       "      <td>的</td>\n",
       "      <td>-0.124044</td>\n",
       "      <td>-0.053688</td>\n",
       "      <td>0.157958</td>\n",
       "      <td>-0.047875</td>\n",
       "      <td>0.049531</td>\n",
       "      <td>0.184998</td>\n",
       "      <td>0.200833</td>\n",
       "      <td>-0.160882</td>\n",
       "      <td>0.110681</td>\n",
       "      <td>...</td>\n",
       "      <td>0.230547</td>\n",
       "      <td>-0.140871</td>\n",
       "      <td>-0.277111</td>\n",
       "      <td>0.000652</td>\n",
       "      <td>-0.177114</td>\n",
       "      <td>-0.036714</td>\n",
       "      <td>-0.087789</td>\n",
       "      <td>-0.127075</td>\n",
       "      <td>-0.020528</td>\n",
       "      <td>0.032646</td>\n",
       "    </tr>\n",
       "    <tr>\n",
       "      <th>2</th>\n",
       "      <td>。</td>\n",
       "      <td>-0.270524</td>\n",
       "      <td>-0.149226</td>\n",
       "      <td>-0.050801</td>\n",
       "      <td>0.014676</td>\n",
       "      <td>-0.391584</td>\n",
       "      <td>0.258038</td>\n",
       "      <td>0.102477</td>\n",
       "      <td>0.004894</td>\n",
       "      <td>0.187659</td>\n",
       "      <td>...</td>\n",
       "      <td>0.104018</td>\n",
       "      <td>0.046463</td>\n",
       "      <td>-0.164107</td>\n",
       "      <td>0.063895</td>\n",
       "      <td>-0.199998</td>\n",
       "      <td>-0.096116</td>\n",
       "      <td>0.381793</td>\n",
       "      <td>0.069962</td>\n",
       "      <td>-0.122410</td>\n",
       "      <td>0.009104</td>\n",
       "    </tr>\n",
       "    <tr>\n",
       "      <th>3</th>\n",
       "      <td>@</td>\n",
       "      <td>0.353423</td>\n",
       "      <td>0.341938</td>\n",
       "      <td>-0.132071</td>\n",
       "      <td>-0.030161</td>\n",
       "      <td>-0.216526</td>\n",
       "      <td>-0.143230</td>\n",
       "      <td>0.479183</td>\n",
       "      <td>-0.043970</td>\n",
       "      <td>-0.058509</td>\n",
       "      <td>...</td>\n",
       "      <td>0.199199</td>\n",
       "      <td>-0.342658</td>\n",
       "      <td>-0.057022</td>\n",
       "      <td>-0.445174</td>\n",
       "      <td>-0.324169</td>\n",
       "      <td>0.359802</td>\n",
       "      <td>0.129796</td>\n",
       "      <td>0.302959</td>\n",
       "      <td>-0.025240</td>\n",
       "      <td>0.153184</td>\n",
       "    </tr>\n",
       "    <tr>\n",
       "      <th>4</th>\n",
       "      <td>！</td>\n",
       "      <td>0.190794</td>\n",
       "      <td>-0.037967</td>\n",
       "      <td>0.101300</td>\n",
       "      <td>0.251551</td>\n",
       "      <td>-0.055706</td>\n",
       "      <td>0.537454</td>\n",
       "      <td>0.272683</td>\n",
       "      <td>-0.114889</td>\n",
       "      <td>-0.187497</td>\n",
       "      <td>...</td>\n",
       "      <td>0.348889</td>\n",
       "      <td>0.064969</td>\n",
       "      <td>-0.155169</td>\n",
       "      <td>-0.093916</td>\n",
       "      <td>-0.480437</td>\n",
       "      <td>-0.027186</td>\n",
       "      <td>0.095489</td>\n",
       "      <td>-0.302136</td>\n",
       "      <td>-0.126407</td>\n",
       "      <td>-0.178464</td>\n",
       "    </tr>\n",
       "  </tbody>\n",
       "</table>\n",
       "<p>5 rows × 301 columns</p>\n",
       "</div>"
      ],
      "text/plain": [
       "  0         1         2         3         4         5         6         7    \\\n",
       "0   ，  0.094386 -0.200944 -0.030828  0.277130 -0.074674  0.239691  0.345185   \n",
       "1   的 -0.124044 -0.053688  0.157958 -0.047875  0.049531  0.184998  0.200833   \n",
       "2   。 -0.270524 -0.149226 -0.050801  0.014676 -0.391584  0.258038  0.102477   \n",
       "3   @  0.353423  0.341938 -0.132071 -0.030161 -0.216526 -0.143230  0.479183   \n",
       "4   ！  0.190794 -0.037967  0.101300  0.251551 -0.055706  0.537454  0.272683   \n",
       "\n",
       "        8         9      ...          291       292       293       294  \\\n",
       "0  0.298053 -0.026679    ...     0.111468 -0.078182 -0.201468 -0.049068   \n",
       "1 -0.160882  0.110681    ...     0.230547 -0.140871 -0.277111  0.000652   \n",
       "2  0.004894  0.187659    ...     0.104018  0.046463 -0.164107  0.063895   \n",
       "3 -0.043970 -0.058509    ...     0.199199 -0.342658 -0.057022 -0.445174   \n",
       "4 -0.114889 -0.187497    ...     0.348889  0.064969 -0.155169 -0.093916   \n",
       "\n",
       "        295       296       297       298       299       300  \n",
       "0 -0.030606  0.201523  0.228546  0.003085  0.023796 -0.201742  \n",
       "1 -0.177114 -0.036714 -0.087789 -0.127075 -0.020528  0.032646  \n",
       "2 -0.199998 -0.096116  0.381793  0.069962 -0.122410  0.009104  \n",
       "3 -0.324169  0.359802  0.129796  0.302959 -0.025240  0.153184  \n",
       "4 -0.480437 -0.027186  0.095489 -0.302136 -0.126407 -0.178464  \n",
       "\n",
       "[5 rows x 301 columns]"
      ]
     },
     "execution_count": 23,
     "metadata": {},
     "output_type": "execute_result"
    }
   ],
   "source": [
    "w2v.head()"
   ]
  },
  {
   "cell_type": "code",
   "execution_count": 24,
   "metadata": {},
   "outputs": [
    {
     "data": {
      "text/plain": [
       "(130198, 301)"
      ]
     },
     "execution_count": 24,
     "metadata": {},
     "output_type": "execute_result"
    }
   ],
   "source": [
    "w2v.shape"
   ]
  },
  {
   "cell_type": "code",
   "execution_count": 25,
   "metadata": {},
   "outputs": [
    {
     "data": {
      "text/html": [
       "<div>\n",
       "<style scoped>\n",
       "    .dataframe tbody tr th:only-of-type {\n",
       "        vertical-align: middle;\n",
       "    }\n",
       "\n",
       "    .dataframe tbody tr th {\n",
       "        vertical-align: top;\n",
       "    }\n",
       "\n",
       "    .dataframe thead th {\n",
       "        text-align: right;\n",
       "    }\n",
       "</style>\n",
       "<table border=\"1\" class=\"dataframe\">\n",
       "  <thead>\n",
       "    <tr style=\"text-align: right;\">\n",
       "      <th></th>\n",
       "      <th>0</th>\n",
       "      <th>1</th>\n",
       "      <th>2</th>\n",
       "      <th>3</th>\n",
       "      <th>4</th>\n",
       "      <th>5</th>\n",
       "      <th>6</th>\n",
       "      <th>7</th>\n",
       "      <th>8</th>\n",
       "      <th>9</th>\n",
       "      <th>...</th>\n",
       "      <th>291</th>\n",
       "      <th>292</th>\n",
       "      <th>293</th>\n",
       "      <th>294</th>\n",
       "      <th>295</th>\n",
       "      <th>296</th>\n",
       "      <th>297</th>\n",
       "      <th>298</th>\n",
       "      <th>299</th>\n",
       "      <th>300</th>\n",
       "    </tr>\n",
       "  </thead>\n",
       "  <tbody>\n",
       "    <tr>\n",
       "      <th>0</th>\n",
       "      <td>，</td>\n",
       "      <td>0.094386</td>\n",
       "      <td>-0.200944</td>\n",
       "      <td>-0.030828</td>\n",
       "      <td>0.277130</td>\n",
       "      <td>-0.074674</td>\n",
       "      <td>0.239691</td>\n",
       "      <td>0.345185</td>\n",
       "      <td>0.298053</td>\n",
       "      <td>-0.026679</td>\n",
       "      <td>...</td>\n",
       "      <td>0.111468</td>\n",
       "      <td>-0.078182</td>\n",
       "      <td>-0.201468</td>\n",
       "      <td>-0.049068</td>\n",
       "      <td>-0.030606</td>\n",
       "      <td>0.201523</td>\n",
       "      <td>0.228546</td>\n",
       "      <td>0.003085</td>\n",
       "      <td>0.023796</td>\n",
       "      <td>-0.201742</td>\n",
       "    </tr>\n",
       "    <tr>\n",
       "      <th>1</th>\n",
       "      <td>的</td>\n",
       "      <td>-0.124044</td>\n",
       "      <td>-0.053688</td>\n",
       "      <td>0.157958</td>\n",
       "      <td>-0.047875</td>\n",
       "      <td>0.049531</td>\n",
       "      <td>0.184998</td>\n",
       "      <td>0.200833</td>\n",
       "      <td>-0.160882</td>\n",
       "      <td>0.110681</td>\n",
       "      <td>...</td>\n",
       "      <td>0.230547</td>\n",
       "      <td>-0.140871</td>\n",
       "      <td>-0.277111</td>\n",
       "      <td>0.000652</td>\n",
       "      <td>-0.177114</td>\n",
       "      <td>-0.036714</td>\n",
       "      <td>-0.087789</td>\n",
       "      <td>-0.127075</td>\n",
       "      <td>-0.020528</td>\n",
       "      <td>0.032646</td>\n",
       "    </tr>\n",
       "    <tr>\n",
       "      <th>2</th>\n",
       "      <td>。</td>\n",
       "      <td>-0.270524</td>\n",
       "      <td>-0.149226</td>\n",
       "      <td>-0.050801</td>\n",
       "      <td>0.014676</td>\n",
       "      <td>-0.391584</td>\n",
       "      <td>0.258038</td>\n",
       "      <td>0.102477</td>\n",
       "      <td>0.004894</td>\n",
       "      <td>0.187659</td>\n",
       "      <td>...</td>\n",
       "      <td>0.104018</td>\n",
       "      <td>0.046463</td>\n",
       "      <td>-0.164107</td>\n",
       "      <td>0.063895</td>\n",
       "      <td>-0.199998</td>\n",
       "      <td>-0.096116</td>\n",
       "      <td>0.381793</td>\n",
       "      <td>0.069962</td>\n",
       "      <td>-0.122410</td>\n",
       "      <td>0.009104</td>\n",
       "    </tr>\n",
       "    <tr>\n",
       "      <th>3</th>\n",
       "      <td>@</td>\n",
       "      <td>0.353423</td>\n",
       "      <td>0.341938</td>\n",
       "      <td>-0.132071</td>\n",
       "      <td>-0.030161</td>\n",
       "      <td>-0.216526</td>\n",
       "      <td>-0.143230</td>\n",
       "      <td>0.479183</td>\n",
       "      <td>-0.043970</td>\n",
       "      <td>-0.058509</td>\n",
       "      <td>...</td>\n",
       "      <td>0.199199</td>\n",
       "      <td>-0.342658</td>\n",
       "      <td>-0.057022</td>\n",
       "      <td>-0.445174</td>\n",
       "      <td>-0.324169</td>\n",
       "      <td>0.359802</td>\n",
       "      <td>0.129796</td>\n",
       "      <td>0.302959</td>\n",
       "      <td>-0.025240</td>\n",
       "      <td>0.153184</td>\n",
       "    </tr>\n",
       "    <tr>\n",
       "      <th>4</th>\n",
       "      <td>！</td>\n",
       "      <td>0.190794</td>\n",
       "      <td>-0.037967</td>\n",
       "      <td>0.101300</td>\n",
       "      <td>0.251551</td>\n",
       "      <td>-0.055706</td>\n",
       "      <td>0.537454</td>\n",
       "      <td>0.272683</td>\n",
       "      <td>-0.114889</td>\n",
       "      <td>-0.187497</td>\n",
       "      <td>...</td>\n",
       "      <td>0.348889</td>\n",
       "      <td>0.064969</td>\n",
       "      <td>-0.155169</td>\n",
       "      <td>-0.093916</td>\n",
       "      <td>-0.480437</td>\n",
       "      <td>-0.027186</td>\n",
       "      <td>0.095489</td>\n",
       "      <td>-0.302136</td>\n",
       "      <td>-0.126407</td>\n",
       "      <td>-0.178464</td>\n",
       "    </tr>\n",
       "    <tr>\n",
       "      <th>5</th>\n",
       "      <td>了</td>\n",
       "      <td>-0.265306</td>\n",
       "      <td>-0.012128</td>\n",
       "      <td>0.054369</td>\n",
       "      <td>0.161182</td>\n",
       "      <td>0.108999</td>\n",
       "      <td>0.228060</td>\n",
       "      <td>0.264748</td>\n",
       "      <td>0.220678</td>\n",
       "      <td>-0.006794</td>\n",
       "      <td>...</td>\n",
       "      <td>0.021784</td>\n",
       "      <td>-0.158714</td>\n",
       "      <td>-0.425785</td>\n",
       "      <td>-0.140036</td>\n",
       "      <td>-0.285551</td>\n",
       "      <td>-0.005943</td>\n",
       "      <td>-0.025092</td>\n",
       "      <td>-0.377171</td>\n",
       "      <td>0.173581</td>\n",
       "      <td>-0.062289</td>\n",
       "    </tr>\n",
       "    <tr>\n",
       "      <th>6</th>\n",
       "      <td>、</td>\n",
       "      <td>0.272173</td>\n",
       "      <td>0.171626</td>\n",
       "      <td>0.095834</td>\n",
       "      <td>0.240955</td>\n",
       "      <td>0.039931</td>\n",
       "      <td>0.270726</td>\n",
       "      <td>0.037028</td>\n",
       "      <td>-0.416159</td>\n",
       "      <td>0.210513</td>\n",
       "      <td>...</td>\n",
       "      <td>0.412781</td>\n",
       "      <td>0.176128</td>\n",
       "      <td>-0.387214</td>\n",
       "      <td>-0.352446</td>\n",
       "      <td>0.027390</td>\n",
       "      <td>-0.041767</td>\n",
       "      <td>0.262398</td>\n",
       "      <td>0.123831</td>\n",
       "      <td>-0.402550</td>\n",
       "      <td>-0.132707</td>\n",
       "    </tr>\n",
       "    <tr>\n",
       "      <th>7</th>\n",
       "      <td>：</td>\n",
       "      <td>0.266232</td>\n",
       "      <td>-0.080174</td>\n",
       "      <td>-0.088479</td>\n",
       "      <td>0.109880</td>\n",
       "      <td>-0.067911</td>\n",
       "      <td>-0.366643</td>\n",
       "      <td>0.246686</td>\n",
       "      <td>-0.091920</td>\n",
       "      <td>-0.339914</td>\n",
       "      <td>...</td>\n",
       "      <td>-0.071100</td>\n",
       "      <td>-0.359892</td>\n",
       "      <td>-0.445297</td>\n",
       "      <td>0.247915</td>\n",
       "      <td>-0.089938</td>\n",
       "      <td>0.195544</td>\n",
       "      <td>-0.249174</td>\n",
       "      <td>-0.377216</td>\n",
       "      <td>-0.351070</td>\n",
       "      <td>-0.241822</td>\n",
       "    </tr>\n",
       "    <tr>\n",
       "      <th>8</th>\n",
       "      <td>】</td>\n",
       "      <td>-0.128490</td>\n",
       "      <td>-0.329927</td>\n",
       "      <td>-0.124422</td>\n",
       "      <td>0.065912</td>\n",
       "      <td>0.008610</td>\n",
       "      <td>0.599650</td>\n",
       "      <td>0.503155</td>\n",
       "      <td>0.337174</td>\n",
       "      <td>0.027491</td>\n",
       "      <td>...</td>\n",
       "      <td>-0.219551</td>\n",
       "      <td>0.020339</td>\n",
       "      <td>-0.086581</td>\n",
       "      <td>0.184960</td>\n",
       "      <td>-0.054858</td>\n",
       "      <td>-0.179416</td>\n",
       "      <td>0.088097</td>\n",
       "      <td>0.126182</td>\n",
       "      <td>-0.554329</td>\n",
       "      <td>-0.328050</td>\n",
       "    </tr>\n",
       "    <tr>\n",
       "      <th>9</th>\n",
       "      <td>是</td>\n",
       "      <td>0.044646</td>\n",
       "      <td>-0.405991</td>\n",
       "      <td>0.291613</td>\n",
       "      <td>0.212346</td>\n",
       "      <td>0.007146</td>\n",
       "      <td>0.187809</td>\n",
       "      <td>0.256465</td>\n",
       "      <td>0.062414</td>\n",
       "      <td>0.158558</td>\n",
       "      <td>...</td>\n",
       "      <td>0.125973</td>\n",
       "      <td>0.208694</td>\n",
       "      <td>-0.336005</td>\n",
       "      <td>-0.127605</td>\n",
       "      <td>0.164675</td>\n",
       "      <td>0.084039</td>\n",
       "      <td>0.268366</td>\n",
       "      <td>-0.113530</td>\n",
       "      <td>-0.101131</td>\n",
       "      <td>0.371861</td>\n",
       "    </tr>\n",
       "  </tbody>\n",
       "</table>\n",
       "<p>10 rows × 301 columns</p>\n",
       "</div>"
      ],
      "text/plain": [
       "  0         1         2         3         4         5         6         7    \\\n",
       "0   ，  0.094386 -0.200944 -0.030828  0.277130 -0.074674  0.239691  0.345185   \n",
       "1   的 -0.124044 -0.053688  0.157958 -0.047875  0.049531  0.184998  0.200833   \n",
       "2   。 -0.270524 -0.149226 -0.050801  0.014676 -0.391584  0.258038  0.102477   \n",
       "3   @  0.353423  0.341938 -0.132071 -0.030161 -0.216526 -0.143230  0.479183   \n",
       "4   ！  0.190794 -0.037967  0.101300  0.251551 -0.055706  0.537454  0.272683   \n",
       "5   了 -0.265306 -0.012128  0.054369  0.161182  0.108999  0.228060  0.264748   \n",
       "6   、  0.272173  0.171626  0.095834  0.240955  0.039931  0.270726  0.037028   \n",
       "7   ：  0.266232 -0.080174 -0.088479  0.109880 -0.067911 -0.366643  0.246686   \n",
       "8   】 -0.128490 -0.329927 -0.124422  0.065912  0.008610  0.599650  0.503155   \n",
       "9   是  0.044646 -0.405991  0.291613  0.212346  0.007146  0.187809  0.256465   \n",
       "\n",
       "        8         9      ...          291       292       293       294  \\\n",
       "0  0.298053 -0.026679    ...     0.111468 -0.078182 -0.201468 -0.049068   \n",
       "1 -0.160882  0.110681    ...     0.230547 -0.140871 -0.277111  0.000652   \n",
       "2  0.004894  0.187659    ...     0.104018  0.046463 -0.164107  0.063895   \n",
       "3 -0.043970 -0.058509    ...     0.199199 -0.342658 -0.057022 -0.445174   \n",
       "4 -0.114889 -0.187497    ...     0.348889  0.064969 -0.155169 -0.093916   \n",
       "5  0.220678 -0.006794    ...     0.021784 -0.158714 -0.425785 -0.140036   \n",
       "6 -0.416159  0.210513    ...     0.412781  0.176128 -0.387214 -0.352446   \n",
       "7 -0.091920 -0.339914    ...    -0.071100 -0.359892 -0.445297  0.247915   \n",
       "8  0.337174  0.027491    ...    -0.219551  0.020339 -0.086581  0.184960   \n",
       "9  0.062414  0.158558    ...     0.125973  0.208694 -0.336005 -0.127605   \n",
       "\n",
       "        295       296       297       298       299       300  \n",
       "0 -0.030606  0.201523  0.228546  0.003085  0.023796 -0.201742  \n",
       "1 -0.177114 -0.036714 -0.087789 -0.127075 -0.020528  0.032646  \n",
       "2 -0.199998 -0.096116  0.381793  0.069962 -0.122410  0.009104  \n",
       "3 -0.324169  0.359802  0.129796  0.302959 -0.025240  0.153184  \n",
       "4 -0.480437 -0.027186  0.095489 -0.302136 -0.126407 -0.178464  \n",
       "5 -0.285551 -0.005943 -0.025092 -0.377171  0.173581 -0.062289  \n",
       "6  0.027390 -0.041767  0.262398  0.123831 -0.402550 -0.132707  \n",
       "7 -0.089938  0.195544 -0.249174 -0.377216 -0.351070 -0.241822  \n",
       "8 -0.054858 -0.179416  0.088097  0.126182 -0.554329 -0.328050  \n",
       "9  0.164675  0.084039  0.268366 -0.113530 -0.101131  0.371861  \n",
       "\n",
       "[10 rows x 301 columns]"
      ]
     },
     "execution_count": 25,
     "metadata": {},
     "output_type": "execute_result"
    }
   ],
   "source": [
    "w2v.head(10)"
   ]
  },
  {
   "cell_type": "code",
   "execution_count": 26,
   "metadata": {},
   "outputs": [],
   "source": [
    "# creating a dictionary with word and an array of the corresponding vector\n",
    "embeddings_index = dict()\n",
    "for i in range(w2v.shape[0]):\n",
    "    word = w2v.iloc[i,0]\n",
    "    coefs = np.asarray(w2v.iloc[i,1:], dtype='float32')\n",
    "    embeddings_index[word] = coefs"
   ]
  },
  {
   "cell_type": "code",
   "execution_count": 27,
   "metadata": {},
   "outputs": [],
   "source": [
    "words = []\n",
    "for i in range(df1.shape[0]):\n",
    "    for j in jieba.cut_for_search(df1.iloc[i][\"clean_text\"]):\n",
    "        words.append(j)"
   ]
  },
  {
   "cell_type": "code",
   "execution_count": 28,
   "metadata": {},
   "outputs": [],
   "source": [
    "words = list(set(words))"
   ]
  },
  {
   "cell_type": "code",
   "execution_count": 29,
   "metadata": {},
   "outputs": [],
   "source": [
    "# Put in function to remove stop words\n",
    "\n",
    "file = open('chinese_stopwords_2.txt','rb').read().decode('utf8').split('\\n')\n",
    "stop_words = list(set(file))"
   ]
  },
  {
   "cell_type": "code",
   "execution_count": 30,
   "metadata": {},
   "outputs": [],
   "source": [
    "def rm_tokens(words): # 去掉一些停用次和数字\n",
    "    words_list = list(words)\n",
    "    for i in range(len(words_list))[::-1]:\n",
    "        if words_list[i] in stop_words: # 去除停用词\n",
    "            words_list.pop(i)\n",
    "        elif words_list[i].isdigit():\n",
    "            words_list.pop(i)\n",
    "    return words_list"
   ]
  },
  {
   "cell_type": "code",
   "execution_count": 31,
   "metadata": {},
   "outputs": [
    {
     "data": {
      "text/plain": [
       "range(40589, -1, -1)"
      ]
     },
     "execution_count": 31,
     "metadata": {},
     "output_type": "execute_result"
    }
   ],
   "source": [
    "range(len(words))[::-1]"
   ]
  },
  {
   "cell_type": "code",
   "execution_count": 32,
   "metadata": {},
   "outputs": [],
   "source": [
    "words = rm_tokens(words)"
   ]
  },
  {
   "cell_type": "code",
   "execution_count": 33,
   "metadata": {},
   "outputs": [
    {
     "data": {
      "text/plain": [
       "39536"
      ]
     },
     "execution_count": 33,
     "metadata": {},
     "output_type": "execute_result"
    }
   ],
   "source": [
    "len(words)"
   ]
  },
  {
   "cell_type": "code",
   "execution_count": 34,
   "metadata": {},
   "outputs": [],
   "source": [
    "t = Tokenizer()\n",
    "t.fit_on_texts(words)\n",
    "vocab_size = len(t.word_index) + 1"
   ]
  },
  {
   "cell_type": "code",
   "execution_count": 35,
   "metadata": {},
   "outputs": [],
   "source": [
    "embedding_matrix = np.zeros((vocab_size, 300))\n",
    "for word, i in t.word_index.items():\n",
    "    embedding_vector = embeddings_index.get(word)\n",
    "    if embedding_vector is not None:\n",
    "        embedding_matrix[i] = embedding_vector"
   ]
  },
  {
   "cell_type": "code",
   "execution_count": 36,
   "metadata": {},
   "outputs": [
    {
     "data": {
      "text/plain": [
       "array([0., 0., 0., 0., 0., 0., 0., 0., 0., 0., 0., 0., 0., 0., 0., 0., 0.,\n",
       "       0., 0., 0., 0., 0., 0., 0., 0., 0., 0., 0., 0., 0., 0., 0., 0., 0.,\n",
       "       0., 0., 0., 0., 0., 0., 0., 0., 0., 0., 0., 0., 0., 0., 0., 0., 0.,\n",
       "       0., 0., 0., 0., 0., 0., 0., 0., 0., 0., 0., 0., 0., 0., 0., 0., 0.,\n",
       "       0., 0., 0., 0., 0., 0., 0., 0., 0., 0., 0., 0., 0., 0., 0., 0., 0.,\n",
       "       0., 0., 0., 0., 0., 0., 0., 0., 0., 0., 0., 0., 0., 0., 0., 0., 0.,\n",
       "       0., 0., 0., 0., 0., 0., 0., 0., 0., 0., 0., 0., 0., 0., 0., 0., 0.,\n",
       "       0., 0., 0., 0., 0., 0., 0., 0., 0., 0., 0., 0., 0., 0., 0., 0., 0.,\n",
       "       0., 0., 0., 0., 0., 0., 0., 0., 0., 0., 0., 0., 0., 0., 0., 0., 0.,\n",
       "       0., 0., 0., 0., 0., 0., 0., 0., 0., 0., 0., 0., 0., 0., 0., 0., 0.,\n",
       "       0., 0., 0., 0., 0., 0., 0., 0., 0., 0., 0., 0., 0., 0., 0., 0., 0.,\n",
       "       0., 0., 0., 0., 0., 0., 0., 0., 0., 0., 0., 0., 0., 0., 0., 0., 0.,\n",
       "       0., 0., 0., 0., 0., 0., 0., 0., 0., 0., 0., 0., 0., 0., 0., 0., 0.,\n",
       "       0., 0., 0., 0., 0., 0., 0., 0., 0., 0., 0., 0., 0., 0., 0., 0., 0.,\n",
       "       0., 0., 0., 0., 0., 0., 0., 0., 0., 0., 0., 0., 0., 0., 0., 0., 0.,\n",
       "       0., 0., 0., 0., 0., 0., 0., 0., 0., 0., 0., 0., 0., 0., 0., 0., 0.,\n",
       "       0., 0., 0., 0., 0., 0., 0., 0., 0., 0., 0., 0., 0., 0., 0., 0., 0.,\n",
       "       0., 0., 0., 0., 0., 0., 0., 0., 0., 0., 0.])"
      ]
     },
     "execution_count": 36,
     "metadata": {},
     "output_type": "execute_result"
    }
   ],
   "source": [
    "embedding_matrix[324]"
   ]
  },
  {
   "cell_type": "code",
   "execution_count": 37,
   "metadata": {},
   "outputs": [],
   "source": [
    "X = train.clean_text\n",
    "X_test = test.clean_text"
   ]
  },
  {
   "cell_type": "code",
   "execution_count": 38,
   "metadata": {},
   "outputs": [],
   "source": [
    "X1 = []\n",
    "for i in X:\n",
    "    X1.append(rm_tokens([j for j in jieba.cut_for_search(i)]))\n",
    "X1_test = []\n",
    "for i in X_test:\n",
    "    X1_test.append(rm_tokens([j for j in jieba.cut_for_search(i)]))"
   ]
  },
  {
   "cell_type": "code",
   "execution_count": 39,
   "metadata": {},
   "outputs": [
    {
     "data": {
      "text/plain": [
       "[['日本',\n",
       "  '基金',\n",
       "  '吸引',\n",
       "  '看涨',\n",
       "  '交易',\n",
       "  '日本',\n",
       "  '智慧',\n",
       "  '树',\n",
       "  '股票',\n",
       "  '型',\n",
       "  '对冲',\n",
       "  '基金',\n",
       "  '走势',\n",
       "  '多变',\n",
       "  '昨天',\n",
       "  '看涨',\n",
       "  '期权',\n",
       "  '再度',\n",
       "  '流通'],\n",
       " ['元',\n",
       "  '小米',\n",
       "  '紫米',\n",
       "  '独家',\n",
       "  '真机',\n",
       "  '曝光',\n",
       "  '知情',\n",
       "  '人士',\n",
       "  '爆料',\n",
       "  '已久',\n",
       "  '小米',\n",
       "  '平板',\n",
       "  '紫米',\n",
       "  '参加',\n",
       "  '月',\n",
       "  '号',\n",
       "  '新品',\n",
       "  '发布',\n",
       "  '发布会',\n",
       "  '配备',\n",
       "  '四核',\n",
       "  '理器',\n",
       "  '处理器',\n",
       "  '内存',\n",
       "  '存储',\n",
       "  '前置',\n",
       "  '后置',\n",
       "  '摄像',\n",
       "  '像头',\n",
       "  '摄像头',\n",
       "  '寸',\n",
       "  '视网',\n",
       "  '网膜',\n",
       "  '视网膜',\n",
       "  '屏幕',\n",
       "  '售价',\n",
       "  '依旧',\n",
       "  '给力',\n",
       "  '元',\n",
       "  '详情']]"
      ]
     },
     "execution_count": 39,
     "metadata": {},
     "output_type": "execute_result"
    }
   ],
   "source": [
    "X1[:2]"
   ]
  },
  {
   "cell_type": "code",
   "execution_count": 40,
   "metadata": {},
   "outputs": [],
   "source": [
    "encoded_docs = t.texts_to_sequences(X1)\n",
    "padded_docs_combined = pad_sequences(encoded_docs, maxlen=100, padding='post')"
   ]
  },
  {
   "cell_type": "code",
   "execution_count": 41,
   "metadata": {},
   "outputs": [
    {
     "data": {
      "text/plain": [
       "[[6183,\n",
       "  12153,\n",
       "  5094,\n",
       "  20740,\n",
       "  34823,\n",
       "  6183,\n",
       "  22162,\n",
       "  22559,\n",
       "  5934,\n",
       "  28618,\n",
       "  14002,\n",
       "  12153,\n",
       "  25313,\n",
       "  11604,\n",
       "  19772,\n",
       "  20740,\n",
       "  6220,\n",
       "  25900,\n",
       "  15423],\n",
       " [30634,\n",
       "  33135,\n",
       "  18031,\n",
       "  27550,\n",
       "  4068,\n",
       "  22231,\n",
       "  21589,\n",
       "  23402,\n",
       "  27188,\n",
       "  20562,\n",
       "  33135,\n",
       "  30577,\n",
       "  18031,\n",
       "  39352,\n",
       "  38178,\n",
       "  29676,\n",
       "  350,\n",
       "  32158,\n",
       "  8014,\n",
       "  25891,\n",
       "  16038,\n",
       "  34093,\n",
       "  23975,\n",
       "  34864,\n",
       "  5835,\n",
       "  29232,\n",
       "  3319,\n",
       "  5651,\n",
       "  25842,\n",
       "  37955,\n",
       "  35179,\n",
       "  38970,\n",
       "  24244,\n",
       "  22262,\n",
       "  1662,\n",
       "  23392,\n",
       "  17245,\n",
       "  5777,\n",
       "  30634,\n",
       "  25600]]"
      ]
     },
     "execution_count": 41,
     "metadata": {},
     "output_type": "execute_result"
    }
   ],
   "source": [
    "encoded_docs[:2]"
   ]
  },
  {
   "cell_type": "code",
   "execution_count": 42,
   "metadata": {},
   "outputs": [],
   "source": [
    "encoded_docs_test = t.texts_to_sequences(X1_test)\n",
    "padded_docs_combined_test = pad_sequences(encoded_docs_test, maxlen=100, padding='post')"
   ]
  },
  {
   "cell_type": "code",
   "execution_count": 43,
   "metadata": {},
   "outputs": [
    {
     "data": {
      "text/plain": [
       "<matplotlib.axes._subplots.AxesSubplot at 0x1eb55b5f710>"
      ]
     },
     "execution_count": 43,
     "metadata": {},
     "output_type": "execute_result"
    },
    {
     "data": {
      "image/png": "[encoded data removed]",
      "text/plain": [
       "<matplotlib.figure.Figure at 0x1eb55b5f278>"
      ]
     },
     "metadata": {},
     "output_type": "display_data"
    }
   ],
   "source": [
    "sns.distplot([len(i) for i in encoded_docs_test ])"
   ]
  },
  {
   "cell_type": "code",
   "execution_count": 44,
   "metadata": {},
   "outputs": [],
   "source": [
    "train_len = 800"
   ]
  },
  {
   "cell_type": "code",
   "execution_count": 45,
   "metadata": {},
   "outputs": [],
   "source": [
    "df_train_padded = padded_docs_combined\n",
    "df_test_padded = padded_docs_combined_test"
   ]
  },
  {
   "cell_type": "code",
   "execution_count": 46,
   "metadata": {},
   "outputs": [
    {
     "name": "stdout",
     "output_type": "stream",
     "text": [
      "(1230, 100)\n",
      "(4995, 100)\n"
     ]
    }
   ],
   "source": [
    "print(df_train_padded.shape)\n",
    "print(df_test_padded.shape)"
   ]
  },
  {
   "cell_type": "code",
   "execution_count": 47,
   "metadata": {},
   "outputs": [],
   "source": [
    "def plot_history(history):\n",
    "    loss_list = [s for s in history.history.keys() if 'loss' in s and 'val' not in s]\n",
    "    val_loss_list = [s for s in history.history.keys() if 'loss' in s and 'val' in s]\n",
    "    acc_list = [s for s in history.history.keys() if 'f1' in s and 'val' not in s]\n",
    "    val_acc_list = [s for s in history.history.keys() if 'f1' in s and 'val' in s]\n",
    "    \n",
    "    if len(loss_list) == 0:\n",
    "        print('Loss is missing in history')\n",
    "        return \n",
    "    \n",
    "    ## As loss always exists\n",
    "    epochs = range(1,len(history.history[loss_list[0]]) + 1)\n",
    "    \n",
    "    ## Loss\n",
    "    plt.figure(1)\n",
    "    for l in loss_list:\n",
    "        plt.plot(epochs, history.history[l], 'b', label='Training loss (' + str(str(format(history.history[l][-1],'.5f'))+')'))\n",
    "    for l in val_loss_list:\n",
    "        plt.plot(epochs, history.history[l], 'g', label='Validation loss (' + str(str(format(history.history[l][-1],'.5f'))+')'))\n",
    "    \n",
    "    plt.title('Loss')\n",
    "    plt.xlabel('Epochs')\n",
    "    plt.ylabel('Loss')\n",
    "    plt.legend()\n",
    "    \n",
    "    ## Accuracy\n",
    "    plt.figure(2)\n",
    "    for l in acc_list:\n",
    "        plt.plot(epochs, history.history[l], 'b', label='Training accuracy (' + str(format(history.history[l][-1],'.5f'))+')')\n",
    "    for l in val_acc_list:    \n",
    "        plt.plot(epochs, history.history[l], 'g', label='Validation accuracy (' + str(format(history.history[l][-1],'.5f'))+')')\n",
    "\n",
    "    plt.title('f1')\n",
    "    plt.xlabel('Epochs')\n",
    "    plt.ylabel('f1')\n",
    "    plt.legend()\n",
    "    plt.show()"
   ]
  },
  {
   "cell_type": "code",
   "execution_count": 48,
   "metadata": {},
   "outputs": [],
   "source": [
    "X_train_text = df_train_padded\n",
    "X_train_uid = train.iloc[:,10:]\n",
    "y_train = pd.get_dummies(train.label)\n",
    "\n",
    "X_test_text = df_test_padded\n",
    "X_test_uid = test.iloc[:,9:]"
   ]
  },
  {
   "cell_type": "code",
   "execution_count": 49,
   "metadata": {},
   "outputs": [
    {
     "data": {
      "text/plain": [
       "(4995, 8)"
      ]
     },
     "execution_count": 49,
     "metadata": {},
     "output_type": "execute_result"
    }
   ],
   "source": [
    "X_test_uid.shape"
   ]
  },
  {
   "cell_type": "code",
   "execution_count": 50,
   "metadata": {},
   "outputs": [
    {
     "data": {
      "text/plain": [
       "\"\\nmodel = Sequential()\\ne = Embedding(vocab_size, 300, weights=[embedding_matrix], \\n                  input_length=100, trainable=True)\\nmodel.add(e)\\nmodel.add(Conv1D(128, 3, activation='relu'))\\nmodel.add(MaxPooling1D(3))\\nmodel.add(Dropout(0.5))\\nmodel.add(Conv1D(64, 3, activation='relu'))\\nmodel.add(MaxPooling1D(3))\\nmodel.add(Dropout(0.5))\\nmodel.add(Conv1D(64, 3, activation='relu'))\\nmodel.add(Dropout(0.5))\\nmodel.add(Conv1D(64, 3, activation='relu'))\\nmodel.add(Dropout(0.5))\\nmodel.add(Conv1D(64, 3, activation='relu'))\\nmodel.add(Dropout(0.5))\\nmodel.add(Conv1D(64, 3, activation='relu'))\\nmodel.add(Dropout(0.5))\\nmodel.add(Flatten())\\nmodel.add(Dense(13, activation='softmax'))\\n\""
      ]
     },
     "execution_count": 50,
     "metadata": {},
     "output_type": "execute_result"
    }
   ],
   "source": [
    "\"\"\"\n",
    "model = Sequential()\n",
    "e = Embedding(vocab_size, 300, weights=[embedding_matrix], \n",
    "                  input_length=100, trainable=True)\n",
    "model.add(e)\n",
    "model.add(Conv1D(128, 3, activation='relu'))\n",
    "model.add(MaxPooling1D(3))\n",
    "model.add(Dropout(0.5))\n",
    "model.add(Conv1D(64, 3, activation='relu'))\n",
    "model.add(MaxPooling1D(3))\n",
    "model.add(Dropout(0.5))\n",
    "model.add(Conv1D(64, 3, activation='relu'))\n",
    "model.add(Dropout(0.5))\n",
    "model.add(Conv1D(64, 3, activation='relu'))\n",
    "model.add(Dropout(0.5))\n",
    "model.add(Conv1D(64, 3, activation='relu'))\n",
    "model.add(Dropout(0.5))\n",
    "model.add(Conv1D(64, 3, activation='relu'))\n",
    "model.add(Dropout(0.5))\n",
    "model.add(Flatten())\n",
    "model.add(Dense(13, activation='softmax'))\n",
    "\"\"\""
   ]
  },
  {
   "cell_type": "code",
   "execution_count": 51,
   "metadata": {},
   "outputs": [
    {
     "name": "stdout",
     "output_type": "stream",
     "text": [
      "WARNING:tensorflow:From C:\\Users\\edwin\\Anaconda3\\lib\\site-packages\\tensorflow\\python\\util\\deprecation.py:497: calling conv1d (from tensorflow.python.ops.nn_ops) with data_format=NHWC is deprecated and will be removed in a future version.\n",
      "Instructions for updating:\n",
      "`NHWC` for data_format is deprecated, use `NWC` instead\n"
     ]
    }
   ],
   "source": [
    "\n",
    "main_input = Input(shape=(100,), dtype='int32', name='main_input')\n",
    "\n",
    "x = Embedding(vocab_size, 300, weights=[embedding_matrix], input_length=100, trainable=True)(main_input)\n",
    "x = Conv1D(128, 3, activation='relu')(x)\n",
    "x = MaxPooling1D(3)(x)\n",
    "x = Dropout(0.5)(x)\n",
    "x = Conv1D(64, 3, activation='relu')(x)\n",
    "x = MaxPooling1D(3)(x)\n",
    "x = Dropout(0.5)(x)\n",
    "#x = Conv1D(64, 3, activation='relu')(x)\n",
    "#x = Dropout(0.5)(x)\n",
    "#x = Conv1D(64, 3, activation='relu')(x)\n",
    "#x = Dropout(0.5)(x)\n",
    "#x = Conv1D(64, 3, activation='relu')(x)\n",
    "#x = Dropout(0.5)(x)\n",
    "#x = Conv1D(64, 3, activation='relu')(x)\n",
    "#x = Dropout(0.5)(x)\n",
    "conv_out = Flatten()(x)\n",
    "\n",
    "auxiliary_input = Input(shape=(8,), name='aux_input')\n",
    "x = keras.layers.concatenate([conv_out, auxiliary_input])\n",
    "\n",
    "x = Dense(64, activation='relu')(x)\n",
    "#x = Dense(64, activation='relu')(x)\n",
    "\n",
    "main_output = Dense(13, activation='softmax')(x)\n",
    "\n",
    "model = Model(inputs=[main_input, auxiliary_input], outputs=[main_output])"
   ]
  },
  {
   "cell_type": "code",
   "execution_count": 52,
   "metadata": {},
   "outputs": [],
   "source": [
    "# define function to calculate F1 score\n",
    "\n",
    "from keras import backend as K\n",
    "\n",
    "def f1(y_true, y_pred):\n",
    "    def recall(y_true, y_pred):\n",
    "        \"\"\"Recall metric.\n",
    "\n",
    "        Only computes a batch-wise average of recall.\n",
    "\n",
    "        Computes the recall, a metric for multi-label classification of\n",
    "        how many relevant items are selected.\n",
    "        \"\"\"\n",
    "        true_positives = K.sum(K.round(K.clip(y_true * y_pred, 0, 1)))\n",
    "        possible_positives = K.sum(K.round(K.clip(y_true, 0, 1)))\n",
    "        recall = true_positives / (possible_positives + K.epsilon())\n",
    "        return recall\n",
    "\n",
    "    def precision(y_true, y_pred):\n",
    "        \"\"\"Precision metric.\n",
    "\n",
    "        Only computes a batch-wise average of precision.\n",
    "\n",
    "        Computes the precision, a metric for multi-label classification of\n",
    "        how many selected items are relevant.\n",
    "        \"\"\"\n",
    "        true_positives = K.sum(K.round(K.clip(y_true * y_pred, 0, 1)))\n",
    "        predicted_positives = K.sum(K.round(K.clip(y_pred, 0, 1)))\n",
    "        precision = true_positives / (predicted_positives + K.epsilon())\n",
    "        return precision\n",
    "    precision = precision(y_true, y_pred)\n",
    "    recall = recall(y_true, y_pred)\n",
    "    return 2*((precision*recall)/(precision+recall+K.epsilon()))\n",
    "\n",
    "model.compile(loss='categorical_crossentropy',\n",
    "          optimizer= \"adam\",\n",
    "          metrics=[f1])"
   ]
  },
  {
   "cell_type": "code",
   "execution_count": 53,
   "metadata": {},
   "outputs": [],
   "source": [
    "# load saved model\n",
    "#model = load_model('ubs_model.h5')"
   ]
  },
  {
   "cell_type": "code",
   "execution_count": 54,
   "metadata": {},
   "outputs": [
    {
     "name": "stdout",
     "output_type": "stream",
     "text": [
      "__________________________________________________________________________________________________\n",
      "Layer (type)                    Output Shape         Param #     Connected to                     \n",
      "==================================================================================================\n",
      "main_input (InputLayer)         (None, 100)          0                                            \n",
      "__________________________________________________________________________________________________\n",
      "embedding_1 (Embedding)         (None, 100, 300)     11861100    main_input[0][0]                 \n",
      "__________________________________________________________________________________________________\n",
      "conv1d_1 (Conv1D)               (None, 98, 128)      115328      embedding_1[0][0]                \n",
      "__________________________________________________________________________________________________\n",
      "max_pooling1d_1 (MaxPooling1D)  (None, 32, 128)      0           conv1d_1[0][0]                   \n",
      "__________________________________________________________________________________________________\n",
      "dropout_1 (Dropout)             (None, 32, 128)      0           max_pooling1d_1[0][0]            \n",
      "__________________________________________________________________________________________________\n",
      "conv1d_2 (Conv1D)               (None, 30, 64)       24640       dropout_1[0][0]                  \n",
      "__________________________________________________________________________________________________\n",
      "max_pooling1d_2 (MaxPooling1D)  (None, 10, 64)       0           conv1d_2[0][0]                   \n",
      "__________________________________________________________________________________________________\n",
      "dropout_2 (Dropout)             (None, 10, 64)       0           max_pooling1d_2[0][0]            \n",
      "__________________________________________________________________________________________________\n",
      "flatten_1 (Flatten)             (None, 640)          0           dropout_2[0][0]                  \n",
      "__________________________________________________________________________________________________\n",
      "aux_input (InputLayer)          (None, 8)            0                                            \n",
      "__________________________________________________________________________________________________\n",
      "concatenate_1 (Concatenate)     (None, 648)          0           flatten_1[0][0]                  \n",
      "                                                                 aux_input[0][0]                  \n",
      "__________________________________________________________________________________________________\n",
      "dense_1 (Dense)                 (None, 64)           41536       concatenate_1[0][0]              \n",
      "__________________________________________________________________________________________________\n",
      "dense_2 (Dense)                 (None, 13)           845         dense_1[0][0]                    \n",
      "==================================================================================================\n",
      "Total params: 12,043,449\n",
      "Trainable params: 12,043,449\n",
      "Non-trainable params: 0\n",
      "__________________________________________________________________________________________________\n"
     ]
    }
   ],
   "source": [
    "model.summary()"
   ]
  },
  {
   "cell_type": "code",
   "execution_count": 55,
   "metadata": {},
   "outputs": [
    {
     "name": "stdout",
     "output_type": "stream",
     "text": [
      "Train on 922 samples, validate on 308 samples\n",
      "Epoch 1/100\n",
      "922/922 [==============================] - 4s 4ms/step - loss: 2.1941 - f1: 0.0166 - val_loss: 1.8582 - val_f1: 0.0000e+00\n",
      "Epoch 2/100\n",
      "922/922 [==============================] - 1s 1ms/step - loss: 1.6884 - f1: 0.3000 - val_loss: 1.3536 - val_f1: 0.5109\n",
      "Epoch 3/100\n",
      "922/922 [==============================] - 1s 1ms/step - loss: 1.2368 - f1: 0.5566 - val_loss: 1.0354 - val_f1: 0.5904\n",
      "Epoch 4/100\n",
      "922/922 [==============================] - 1s 1ms/step - loss: 0.9301 - f1: 0.6412 - val_loss: 0.8901 - val_f1: 0.6466\n",
      "Epoch 5/100\n",
      "922/922 [==============================] - 1s 1ms/step - loss: 0.7255 - f1: 0.7208 - val_loss: 0.8836 - val_f1: 0.6204\n",
      "Epoch 6/100\n",
      "922/922 [==============================] - 1s 1ms/step - loss: 0.5626 - f1: 0.7842 - val_loss: 0.7417 - val_f1: 0.7059\n",
      "Epoch 7/100\n",
      "922/922 [==============================] - 1s 1ms/step - loss: 0.4426 - f1: 0.8375 - val_loss: 0.7916 - val_f1: 0.6886\n",
      "Epoch 8/100\n",
      "922/922 [==============================] - 1s 1ms/step - loss: 0.3205 - f1: 0.8934 - val_loss: 0.7940 - val_f1: 0.7109\n",
      "Epoch 9/100\n",
      "922/922 [==============================] - 1s 1ms/step - loss: 0.2544 - f1: 0.9191 - val_loss: 0.7888 - val_f1: 0.7244\n",
      "Epoch 10/100\n",
      "922/922 [==============================] - 1s 1ms/step - loss: 0.1947 - f1: 0.9392 - val_loss: 0.7976 - val_f1: 0.7372\n",
      "Epoch 11/100\n",
      "922/922 [==============================] - 1s 1ms/step - loss: 0.1524 - f1: 0.9525 - val_loss: 0.7517 - val_f1: 0.7727\n"
     ]
    }
   ],
   "source": [
    "from keras.callbacks import EarlyStopping\n",
    "\n",
    "es = EarlyStopping(patience=5)\n",
    "history = model.fit([X_train_text, X_train_uid], y_train, validation_split=0.25,\n",
    "                        epochs=100, verbose=1, callbacks=[es])"
   ]
  },
  {
   "cell_type": "code",
   "execution_count": 56,
   "metadata": {},
   "outputs": [
    {
     "data": {
      "image/png": "[encoded data removed]",
      "text/plain": [
       "<matplotlib.figure.Figure at 0x1eb55b5f828>"
      ]
     },
     "metadata": {},
     "output_type": "display_data"
    },
    {
     "data": {
      "image/png": "[encoded data removed]",
      "text/plain": [
       "<matplotlib.figure.Figure at 0x1eb59411c50>"
      ]
     },
     "metadata": {},
     "output_type": "display_data"
    }
   ],
   "source": [
    "plot_history(history)"
   ]
  },
  {
   "cell_type": "code",
   "execution_count": 57,
   "metadata": {},
   "outputs": [],
   "source": [
    "# save model as...\n",
    "model.save('ubs_model.h5')  "
   ]
  },
  {
   "cell_type": "code",
   "execution_count": 58,
   "metadata": {},
   "outputs": [],
   "source": [
    "y_pred = model.predict([X_test_text, X_test_uid])"
   ]
  },
  {
   "cell_type": "code",
   "execution_count": 59,
   "metadata": {},
   "outputs": [
    {
     "data": {
      "text/plain": [
       "array([ 9,  9,  9, ..., 12,  8, 10], dtype=int64)"
      ]
     },
     "execution_count": 59,
     "metadata": {},
     "output_type": "execute_result"
    }
   ],
   "source": [
    "np.argmax(y_pred, axis=1)"
   ]
  },
  {
   "cell_type": "code",
   "execution_count": 60,
   "metadata": {},
   "outputs": [
    {
     "name": "stderr",
     "output_type": "stream",
     "text": [
      "C:\\Users\\edwin\\Anaconda3\\lib\\site-packages\\ipykernel_launcher.py:1: SettingWithCopyWarning: \n",
      "A value is trying to be set on a copy of a slice from a DataFrame.\n",
      "Try using .loc[row_indexer,col_indexer] = value instead\n",
      "\n",
      "See the caveats in the documentation: http://pandas.pydata.org/pandas-docs/stable/indexing.html#indexing-view-versus-copy\n",
      "  \"\"\"Entry point for launching an IPython kernel.\n"
     ]
    }
   ],
   "source": [
    "test['predict'] = np.argmax(y_pred, axis=1)"
   ]
  },
  {
   "cell_type": "code",
   "execution_count": 61,
   "metadata": {
    "scrolled": false
   },
   "outputs": [
    {
     "data": {
      "text/html": [
       "<div>\n",
       "<style scoped>\n",
       "    .dataframe tbody tr th:only-of-type {\n",
       "        vertical-align: middle;\n",
       "    }\n",
       "\n",
       "    .dataframe tbody tr th {\n",
       "        vertical-align: top;\n",
       "    }\n",
       "\n",
       "    .dataframe thead th {\n",
       "        text-align: right;\n",
       "    }\n",
       "</style>\n",
       "<table border=\"1\" class=\"dataframe\">\n",
       "  <thead>\n",
       "    <tr style=\"text-align: right;\">\n",
       "      <th></th>\n",
       "      <th>clean_text</th>\n",
       "      <th>predict</th>\n",
       "    </tr>\n",
       "  </thead>\n",
       "  <tbody>\n",
       "    <tr>\n",
       "      <th>4005</th>\n",
       "      <td>继年春季首次受游艺堂委托举办天风薪传游艺堂藏赵少昂书...</td>\n",
       "      <td>5</td>\n",
       "    </tr>\n",
       "    <tr>\n",
       "      <th>7632</th>\n",
       "      <td>警方通报北林大学生车祸事故原因肇事车涉嫌追逐竞驶话筒...</td>\n",
       "      <td>10</td>\n",
       "    </tr>\n",
       "    <tr>\n",
       "      <th>6049</th>\n",
       "      <td>海外拍场卢浮宫镇馆馆藏德拉克洛瓦名作自由引导人民唯一...</td>\n",
       "      <td>6</td>\n",
       "    </tr>\n",
       "    <tr>\n",
       "      <th>2915</th>\n",
       "      <td>税延养老保险来了月缴元岁后月领近月日起上海市福建省和...</td>\n",
       "      <td>8</td>\n",
       "    </tr>\n",
       "    <tr>\n",
       "      <th>2440</th>\n",
       "      <td>马自达在国内的主销当下只有和现在他们终于要引入海外版...</td>\n",
       "      <td>10</td>\n",
       "    </tr>\n",
       "    <tr>\n",
       "      <th>7088</th>\n",
       "      <td>家长注意别让你的孩子成为熊孩子围观围观围观在公共场合...</td>\n",
       "      <td>12</td>\n",
       "    </tr>\n",
       "    <tr>\n",
       "      <th>606</th>\n",
       "      <td>社交网站广告动力不足社交网站广告投放的市场价值正在下...</td>\n",
       "      <td>8</td>\n",
       "    </tr>\n",
       "    <tr>\n",
       "      <th>7547</th>\n",
       "      <td>教师资格证成绩查询听说教师资格证成绩可以查询了没有查...</td>\n",
       "      <td>10</td>\n",
       "    </tr>\n",
       "    <tr>\n",
       "      <th>2328</th>\n",
       "      <td>爱极客爱撩赛车北美漂移大师砖叔酷爱极客的秒拍视频</td>\n",
       "      <td>10</td>\n",
       "    </tr>\n",
       "    <tr>\n",
       "      <th>7262</th>\n",
       "      <td>小学放学早家长遇尴尬三点半难题怎么破思考小学减负三点...</td>\n",
       "      <td>12</td>\n",
       "    </tr>\n",
       "  </tbody>\n",
       "</table>\n",
       "</div>"
      ],
      "text/plain": [
       "                         clean_text  predict\n",
       "4005  继年春季首次受游艺堂委托举办天风薪传游艺堂藏赵少昂书...        5\n",
       "7632  警方通报北林大学生车祸事故原因肇事车涉嫌追逐竞驶话筒...       10\n",
       "6049  海外拍场卢浮宫镇馆馆藏德拉克洛瓦名作自由引导人民唯一...        6\n",
       "2915  税延养老保险来了月缴元岁后月领近月日起上海市福建省和...        8\n",
       "2440  马自达在国内的主销当下只有和现在他们终于要引入海外版...       10\n",
       "7088  家长注意别让你的孩子成为熊孩子围观围观围观在公共场合...       12\n",
       "606   社交网站广告动力不足社交网站广告投放的市场价值正在下...        8\n",
       "7547  教师资格证成绩查询听说教师资格证成绩可以查询了没有查...       10\n",
       "2328       爱极客爱撩赛车北美漂移大师砖叔酷爱极客的秒拍视频       10\n",
       "7262  小学放学早家长遇尴尬三点半难题怎么破思考小学减负三点...       12"
      ]
     },
     "execution_count": 61,
     "metadata": {},
     "output_type": "execute_result"
    }
   ],
   "source": [
    "test.sample(10)[[\"clean_text\",\"predict\"]]"
   ]
  },
  {
   "cell_type": "code",
   "execution_count": 62,
   "metadata": {},
   "outputs": [
    {
     "data": {
      "text/plain": [
       "array([1497996114, 1628009324, 1881938674, 1895520105, 1988800805,\n",
       "       2308351693, 2807239535, 5563089830], dtype=int64)"
      ]
     },
     "execution_count": 62,
     "metadata": {},
     "output_type": "execute_result"
    }
   ],
   "source": [
    "test['user_id'].unique()"
   ]
  },
  {
   "cell_type": "code",
   "execution_count": 63,
   "metadata": {},
   "outputs": [
    {
     "data": {
      "text/plain": [
       "10    320\n",
       "9     238\n",
       "8     216\n",
       "0     102\n",
       "5      66\n",
       "6      62\n",
       "1      55\n",
       "12     46\n",
       "4      44\n",
       "11     34\n",
       "7      26\n",
       "2      11\n",
       "3      10\n",
       "Name: label, dtype: int64"
      ]
     },
     "execution_count": 63,
     "metadata": {},
     "output_type": "execute_result"
    }
   ],
   "source": [
    "train['label'].value_counts()"
   ]
  },
  {
   "cell_type": "code",
   "execution_count": 64,
   "metadata": {},
   "outputs": [
    {
     "data": {
      "text/html": [
       "<div>\n",
       "<style scoped>\n",
       "    .dataframe tbody tr th:only-of-type {\n",
       "        vertical-align: middle;\n",
       "    }\n",
       "\n",
       "    .dataframe tbody tr th {\n",
       "        vertical-align: top;\n",
       "    }\n",
       "\n",
       "    .dataframe thead th {\n",
       "        text-align: right;\n",
       "    }\n",
       "</style>\n",
       "<table border=\"1\" class=\"dataframe\">\n",
       "  <thead>\n",
       "    <tr style=\"text-align: right;\">\n",
       "      <th></th>\n",
       "      <th>clean_text</th>\n",
       "      <th>user_id</th>\n",
       "      <th>predict</th>\n",
       "    </tr>\n",
       "  </thead>\n",
       "  <tbody>\n",
       "    <tr>\n",
       "      <th>461</th>\n",
       "      <td>淘宝新规困局专题回顾淘宝商城近日调整招商规则技术服务...</td>\n",
       "      <td>1628009324</td>\n",
       "      <td>4</td>\n",
       "    </tr>\n",
       "    <tr>\n",
       "      <th>462</th>\n",
       "      <td>今日关注中国式人为的经济放缓中国上个季度的经济增速降...</td>\n",
       "      <td>1628009324</td>\n",
       "      <td>4</td>\n",
       "    </tr>\n",
       "    <tr>\n",
       "      <th>470</th>\n",
       "      <td>美国阿拉巴马州人口最为稠密的杰斐逊县政府日投票表决称...</td>\n",
       "      <td>1628009324</td>\n",
       "      <td>4</td>\n",
       "    </tr>\n",
       "    <tr>\n",
       "      <th>473</th>\n",
       "      <td>月出口回落中国海关周四公布月出口同比增略逊于预期值进...</td>\n",
       "      <td>1628009324</td>\n",
       "      <td>4</td>\n",
       "    </tr>\n",
       "    <tr>\n",
       "      <th>493</th>\n",
       "      <td>视频中国建筑制造业乃投资上选瑞银中国策略师约翰汤认为...</td>\n",
       "      <td>1628009324</td>\n",
       "      <td>4</td>\n",
       "    </tr>\n",
       "    <tr>\n",
       "      <th>506</th>\n",
       "      <td>英语视频中国政府积极预防经济过热麦格理私人财富部门主...</td>\n",
       "      <td>1628009324</td>\n",
       "      <td>4</td>\n",
       "    </tr>\n",
       "    <tr>\n",
       "      <th>517</th>\n",
       "      <td>视频中国经济增长放缓引市场担忧中国经济增长放缓引发市...</td>\n",
       "      <td>1628009324</td>\n",
       "      <td>4</td>\n",
       "    </tr>\n",
       "    <tr>\n",
       "      <th>527</th>\n",
       "      <td>图片房价上涨最快的二十国尽管世界经济不断引人担忧但是...</td>\n",
       "      <td>1628009324</td>\n",
       "      <td>4</td>\n",
       "    </tr>\n",
       "    <tr>\n",
       "      <th>533</th>\n",
       "      <td>视频港行或受益于人民币国际化今日中国推出人民币对买来...</td>\n",
       "      <td>1628009324</td>\n",
       "      <td>4</td>\n",
       "    </tr>\n",
       "    <tr>\n",
       "      <th>559</th>\n",
       "      <td>英文视频现阶段中国经济只能靠基础设施投资驱动新鸿基金...</td>\n",
       "      <td>1628009324</td>\n",
       "      <td>4</td>\n",
       "    </tr>\n",
       "    <tr>\n",
       "      <th>563</th>\n",
       "      <td>英文视频中国经济比想象中更脆弱末日博士麦嘉华在接受采...</td>\n",
       "      <td>1628009324</td>\n",
       "      <td>4</td>\n",
       "    </tr>\n",
       "    <tr>\n",
       "      <th>604</th>\n",
       "      <td>消费者信心指数回弹美国国际市场新闻社基于每月个家庭的...</td>\n",
       "      <td>1628009324</td>\n",
       "      <td>4</td>\n",
       "    </tr>\n",
       "    <tr>\n",
       "      <th>609</th>\n",
       "      <td>论房地产投资大亨吉姆罗杰斯称中国政府的降息政策在目前...</td>\n",
       "      <td>1628009324</td>\n",
       "      <td>4</td>\n",
       "    </tr>\n",
       "    <tr>\n",
       "      <th>618</th>\n",
       "      <td>做空澳元汇丰数据显示中国制造业活动降至自年月以来的最...</td>\n",
       "      <td>1628009324</td>\n",
       "      <td>4</td>\n",
       "    </tr>\n",
       "    <tr>\n",
       "      <th>627</th>\n",
       "      <td>坐拥百万美元豪宅的岁偶像中文网曾刊登过巴菲特价值万美...</td>\n",
       "      <td>1628009324</td>\n",
       "      <td>4</td>\n",
       "    </tr>\n",
       "    <tr>\n",
       "      <th>640</th>\n",
       "      <td>日元兑美元近期或将贬值近期从美元兑日元的周线的长期统...</td>\n",
       "      <td>1628009324</td>\n",
       "      <td>4</td>\n",
       "    </tr>\n",
       "    <tr>\n",
       "      <th>653</th>\n",
       "      <td>亚洲老年人市场崛起经营老年人业务的旅游公司正得到显著...</td>\n",
       "      <td>1628009324</td>\n",
       "      <td>4</td>\n",
       "    </tr>\n",
       "    <tr>\n",
       "      <th>655</th>\n",
       "      <td>为什么楼市新政无法使香港房价下降香港只有一半的人拥有...</td>\n",
       "      <td>1628009324</td>\n",
       "      <td>4</td>\n",
       "    </tr>\n",
       "    <tr>\n",
       "      <th>665</th>\n",
       "      <td>中国新总理需重点关注的经济指标月中国铁路货物运输量开...</td>\n",
       "      <td>1628009324</td>\n",
       "      <td>4</td>\n",
       "    </tr>\n",
       "    <tr>\n",
       "      <th>670</th>\n",
       "      <td>达沃斯经济论坛现场报道中国经济增长预计为北京大学教授...</td>\n",
       "      <td>1628009324</td>\n",
       "      <td>4</td>\n",
       "    </tr>\n",
       "    <tr>\n",
       "      <th>682</th>\n",
       "      <td>原油价格将继续下跌布伦特原油价格本周四再度下滑这是去...</td>\n",
       "      <td>1628009324</td>\n",
       "      <td>4</td>\n",
       "    </tr>\n",
       "    <tr>\n",
       "      <th>695</th>\n",
       "      <td>中国面对来自公众的环保诉求总部位于北京的非营利机构公...</td>\n",
       "      <td>1628009324</td>\n",
       "      <td>4</td>\n",
       "    </tr>\n",
       "    <tr>\n",
       "      <th>698</th>\n",
       "      <td>月国家上涨物价也在农历新年之后出现了明显的下降上涨在...</td>\n",
       "      <td>1628009324</td>\n",
       "      <td>4</td>\n",
       "    </tr>\n",
       "    <tr>\n",
       "      <th>709</th>\n",
       "      <td>新媒体的内容战争数字内容之战正在持续升温全球领先视频...</td>\n",
       "      <td>1628009324</td>\n",
       "      <td>4</td>\n",
       "    </tr>\n",
       "    <tr>\n",
       "      <th>711</th>\n",
       "      <td>中国禽流感是否会遏制通胀食物价格占中国的猪肉和鸡肉在...</td>\n",
       "      <td>1628009324</td>\n",
       "      <td>4</td>\n",
       "    </tr>\n",
       "    <tr>\n",
       "      <th>714</th>\n",
       "      <td>硅谷的中国对手作为最大的移动互联网市场中国的新兴科技...</td>\n",
       "      <td>1628009324</td>\n",
       "      <td>4</td>\n",
       "    </tr>\n",
       "    <tr>\n",
       "      <th>730</th>\n",
       "      <td>本周经济数据将显示日本经济是否有所回升日本四月工业输...</td>\n",
       "      <td>1628009324</td>\n",
       "      <td>4</td>\n",
       "    </tr>\n",
       "    <tr>\n",
       "      <th>733</th>\n",
       "      <td>中建美国在美国的建设历程中国建筑公司美国在美投资已达...</td>\n",
       "      <td>1628009324</td>\n",
       "      <td>4</td>\n",
       "    </tr>\n",
       "    <tr>\n",
       "      <th>742</th>\n",
       "      <td>分析师日本经济步入正轨黑石集团投资关系和商务发展部高...</td>\n",
       "      <td>1628009324</td>\n",
       "      <td>4</td>\n",
       "    </tr>\n",
       "    <tr>\n",
       "      <th>743</th>\n",
       "      <td>美国千禧一代更适宜继承财产年轻一代更加意识到美国梦不...</td>\n",
       "      <td>1628009324</td>\n",
       "      <td>4</td>\n",
       "    </tr>\n",
       "    <tr>\n",
       "      <th>...</th>\n",
       "      <td>...</td>\n",
       "      <td>...</td>\n",
       "      <td>...</td>\n",
       "    </tr>\n",
       "    <tr>\n",
       "      <th>2768</th>\n",
       "      <td>我国二孩出生数超一孩为何年轻人连一孩都不想生了年全年...</td>\n",
       "      <td>1988800805</td>\n",
       "      <td>4</td>\n",
       "    </tr>\n",
       "    <tr>\n",
       "      <th>2804</th>\n",
       "      <td>讲投资的郭德纲操纵股票被证监会罚亿元财经网红主持人廖...</td>\n",
       "      <td>1988800805</td>\n",
       "      <td>4</td>\n",
       "    </tr>\n",
       "    <tr>\n",
       "      <th>2826</th>\n",
       "      <td>一份研报引发股公司大涨大跌究竟是谁惹的祸一份券商研报...</td>\n",
       "      <td>1988800805</td>\n",
       "      <td>4</td>\n",
       "    </tr>\n",
       "    <tr>\n",
       "      <th>2862</th>\n",
       "      <td>海关中国月中美贸易总值万亿元同比增长中国月贸易帐亿元...</td>\n",
       "      <td>1988800805</td>\n",
       "      <td>4</td>\n",
       "    </tr>\n",
       "    <tr>\n",
       "      <th>2876</th>\n",
       "      <td>燕郊楼市崩盘真相老投资客赔首付新投资客花样入场曾一高...</td>\n",
       "      <td>1988800805</td>\n",
       "      <td>4</td>\n",
       "    </tr>\n",
       "    <tr>\n",
       "      <th>2877</th>\n",
       "      <td>触目惊心炒房团如何短期内把三线城市房价炒高两三倍房子...</td>\n",
       "      <td>1988800805</td>\n",
       "      <td>4</td>\n",
       "    </tr>\n",
       "    <tr>\n",
       "      <th>2909</th>\n",
       "      <td>红黄蓝教育接到公安电话警方将公布调查结果红黄蓝教育在...</td>\n",
       "      <td>1988800805</td>\n",
       "      <td>4</td>\n",
       "    </tr>\n",
       "    <tr>\n",
       "      <th>4205</th>\n",
       "      <td>买家日益增长佳士得年全球成交亿美元截至年月底佳士得国...</td>\n",
       "      <td>2807239535</td>\n",
       "      <td>4</td>\n",
       "    </tr>\n",
       "    <tr>\n",
       "      <th>4232</th>\n",
       "      <td>佳士得新闻佳士得今日公布上半年度业绩报告截至月日上半...</td>\n",
       "      <td>2807239535</td>\n",
       "      <td>4</td>\n",
       "    </tr>\n",
       "    <tr>\n",
       "      <th>4503</th>\n",
       "      <td>公司新闻佳士得宣布亚洲区领导层晋升委任魏蔚女士被委任...</td>\n",
       "      <td>2807239535</td>\n",
       "      <td>4</td>\n",
       "    </tr>\n",
       "    <tr>\n",
       "      <th>4504</th>\n",
       "      <td>公司新闻佳士得宣布亚洲区领导层晋升委任魏蔚女士被委任...</td>\n",
       "      <td>2807239535</td>\n",
       "      <td>4</td>\n",
       "    </tr>\n",
       "    <tr>\n",
       "      <th>4779</th>\n",
       "      <td>佳士得高价频现但艺术市场依旧稳健上半年佳士得拍卖成交...</td>\n",
       "      <td>2807239535</td>\n",
       "      <td>4</td>\n",
       "    </tr>\n",
       "    <tr>\n",
       "      <th>5537</th>\n",
       "      <td>新晋藏家入场佳士得上半年成交亿美元截至月日佳士得国际...</td>\n",
       "      <td>2807239535</td>\n",
       "      <td>4</td>\n",
       "    </tr>\n",
       "    <tr>\n",
       "      <th>5538</th>\n",
       "      <td>佳士得新闻佳士得今日公布上半年度业绩报告截至月日上半...</td>\n",
       "      <td>2807239535</td>\n",
       "      <td>4</td>\n",
       "    </tr>\n",
       "    <tr>\n",
       "      <th>6398</th>\n",
       "      <td>如何整治校园贷关于校园贷的一段视频每个大学生都该看看...</td>\n",
       "      <td>5563089830</td>\n",
       "      <td>4</td>\n",
       "    </tr>\n",
       "    <tr>\n",
       "      <th>6416</th>\n",
       "      <td>教育行业每日盘点教育行业那些事儿教育在于解决人类知识...</td>\n",
       "      <td>5563089830</td>\n",
       "      <td>4</td>\n",
       "    </tr>\n",
       "    <tr>\n",
       "      <th>6417</th>\n",
       "      <td>教育头条年我国教育事业将在哪些方面着力突破哪些难点在...</td>\n",
       "      <td>5563089830</td>\n",
       "      <td>4</td>\n",
       "    </tr>\n",
       "    <tr>\n",
       "      <th>6419</th>\n",
       "      <td>劝阻吸烟老人猝死案例段某在电梯内吸烟杨某对其进行劝阻...</td>\n",
       "      <td>5563089830</td>\n",
       "      <td>4</td>\n",
       "    </tr>\n",
       "    <tr>\n",
       "      <th>6877</th>\n",
       "      <td>初入职场遭遇潜规则是坦然接受还是坚决反对男生和女生的...</td>\n",
       "      <td>5563089830</td>\n",
       "      <td>4</td>\n",
       "    </tr>\n",
       "    <tr>\n",
       "      <th>6963</th>\n",
       "      <td>教育新闻中青报调查幼儿园入园难有地方连基本资源都保证...</td>\n",
       "      <td>5563089830</td>\n",
       "      <td>4</td>\n",
       "    </tr>\n",
       "    <tr>\n",
       "      <th>6969</th>\n",
       "      <td>伪中产争夺学区房背后伪中产争夺学区房背后超七成人士仍...</td>\n",
       "      <td>5563089830</td>\n",
       "      <td>4</td>\n",
       "    </tr>\n",
       "    <tr>\n",
       "      <th>7001</th>\n",
       "      <td>高考招生专业现明显变化大数据网络安全等学科成新贵麦肯...</td>\n",
       "      <td>5563089830</td>\n",
       "      <td>4</td>\n",
       "    </tr>\n",
       "    <tr>\n",
       "      <th>7090</th>\n",
       "      <td>出国留学精华赴美留学或需每年申请新签证衰衰衰据华盛顿...</td>\n",
       "      <td>5563089830</td>\n",
       "      <td>4</td>\n",
       "    </tr>\n",
       "    <tr>\n",
       "      <th>7186</th>\n",
       "      <td>随着底层技术的开源深度学习的突破人工智能迎来第三次高...</td>\n",
       "      <td>5563089830</td>\n",
       "      <td>4</td>\n",
       "    </tr>\n",
       "    <tr>\n",
       "      <th>7312</th>\n",
       "      <td>全球最具创新力大学排行榜中国大学排名大跃进心路透社发...</td>\n",
       "      <td>5563089830</td>\n",
       "      <td>4</td>\n",
       "    </tr>\n",
       "    <tr>\n",
       "      <th>7389</th>\n",
       "      <td>扎克伯格在清华谈创业想要胜出应关注自己真正感兴趣的问...</td>\n",
       "      <td>5563089830</td>\n",
       "      <td>4</td>\n",
       "    </tr>\n",
       "    <tr>\n",
       "      <th>7570</th>\n",
       "      <td>中国女留学生在日本被杀宣判前梳理江歌案庭审的关键细节...</td>\n",
       "      <td>5563089830</td>\n",
       "      <td>4</td>\n",
       "    </tr>\n",
       "    <tr>\n",
       "      <th>7573</th>\n",
       "      <td>后考上研究生离职当天被同事砍死行凶者压力大他有责围观...</td>\n",
       "      <td>5563089830</td>\n",
       "      <td>4</td>\n",
       "    </tr>\n",
       "    <tr>\n",
       "      <th>7574</th>\n",
       "      <td>考研还是就业什么影响了大学生择业超八成受访者认为工资...</td>\n",
       "      <td>5563089830</td>\n",
       "      <td>4</td>\n",
       "    </tr>\n",
       "    <tr>\n",
       "      <th>7582</th>\n",
       "      <td>年教育行业关键词你想到了几个缩写教育行业这一年赴美上...</td>\n",
       "      <td>5563089830</td>\n",
       "      <td>4</td>\n",
       "    </tr>\n",
       "  </tbody>\n",
       "</table>\n",
       "<p>165 rows × 3 columns</p>\n",
       "</div>"
      ],
      "text/plain": [
       "                         clean_text     user_id  predict\n",
       "461   淘宝新规困局专题回顾淘宝商城近日调整招商规则技术服务...  1628009324        4\n",
       "462   今日关注中国式人为的经济放缓中国上个季度的经济增速降...  1628009324        4\n",
       "470   美国阿拉巴马州人口最为稠密的杰斐逊县政府日投票表决称...  1628009324        4\n",
       "473   月出口回落中国海关周四公布月出口同比增略逊于预期值进...  1628009324        4\n",
       "493   视频中国建筑制造业乃投资上选瑞银中国策略师约翰汤认为...  1628009324        4\n",
       "506   英语视频中国政府积极预防经济过热麦格理私人财富部门主...  1628009324        4\n",
       "517   视频中国经济增长放缓引市场担忧中国经济增长放缓引发市...  1628009324        4\n",
       "527   图片房价上涨最快的二十国尽管世界经济不断引人担忧但是...  1628009324        4\n",
       "533   视频港行或受益于人民币国际化今日中国推出人民币对买来...  1628009324        4\n",
       "559   英文视频现阶段中国经济只能靠基础设施投资驱动新鸿基金...  1628009324        4\n",
       "563   英文视频中国经济比想象中更脆弱末日博士麦嘉华在接受采...  1628009324        4\n",
       "604   消费者信心指数回弹美国国际市场新闻社基于每月个家庭的...  1628009324        4\n",
       "609   论房地产投资大亨吉姆罗杰斯称中国政府的降息政策在目前...  1628009324        4\n",
       "618   做空澳元汇丰数据显示中国制造业活动降至自年月以来的最...  1628009324        4\n",
       "627   坐拥百万美元豪宅的岁偶像中文网曾刊登过巴菲特价值万美...  1628009324        4\n",
       "640   日元兑美元近期或将贬值近期从美元兑日元的周线的长期统...  1628009324        4\n",
       "653   亚洲老年人市场崛起经营老年人业务的旅游公司正得到显著...  1628009324        4\n",
       "655   为什么楼市新政无法使香港房价下降香港只有一半的人拥有...  1628009324        4\n",
       "665   中国新总理需重点关注的经济指标月中国铁路货物运输量开...  1628009324        4\n",
       "670   达沃斯经济论坛现场报道中国经济增长预计为北京大学教授...  1628009324        4\n",
       "682   原油价格将继续下跌布伦特原油价格本周四再度下滑这是去...  1628009324        4\n",
       "695   中国面对来自公众的环保诉求总部位于北京的非营利机构公...  1628009324        4\n",
       "698   月国家上涨物价也在农历新年之后出现了明显的下降上涨在...  1628009324        4\n",
       "709   新媒体的内容战争数字内容之战正在持续升温全球领先视频...  1628009324        4\n",
       "711   中国禽流感是否会遏制通胀食物价格占中国的猪肉和鸡肉在...  1628009324        4\n",
       "714   硅谷的中国对手作为最大的移动互联网市场中国的新兴科技...  1628009324        4\n",
       "730   本周经济数据将显示日本经济是否有所回升日本四月工业输...  1628009324        4\n",
       "733   中建美国在美国的建设历程中国建筑公司美国在美投资已达...  1628009324        4\n",
       "742   分析师日本经济步入正轨黑石集团投资关系和商务发展部高...  1628009324        4\n",
       "743   美国千禧一代更适宜继承财产年轻一代更加意识到美国梦不...  1628009324        4\n",
       "...                             ...         ...      ...\n",
       "2768  我国二孩出生数超一孩为何年轻人连一孩都不想生了年全年...  1988800805        4\n",
       "2804  讲投资的郭德纲操纵股票被证监会罚亿元财经网红主持人廖...  1988800805        4\n",
       "2826  一份研报引发股公司大涨大跌究竟是谁惹的祸一份券商研报...  1988800805        4\n",
       "2862  海关中国月中美贸易总值万亿元同比增长中国月贸易帐亿元...  1988800805        4\n",
       "2876  燕郊楼市崩盘真相老投资客赔首付新投资客花样入场曾一高...  1988800805        4\n",
       "2877  触目惊心炒房团如何短期内把三线城市房价炒高两三倍房子...  1988800805        4\n",
       "2909  红黄蓝教育接到公安电话警方将公布调查结果红黄蓝教育在...  1988800805        4\n",
       "4205  买家日益增长佳士得年全球成交亿美元截至年月底佳士得国...  2807239535        4\n",
       "4232  佳士得新闻佳士得今日公布上半年度业绩报告截至月日上半...  2807239535        4\n",
       "4503  公司新闻佳士得宣布亚洲区领导层晋升委任魏蔚女士被委任...  2807239535        4\n",
       "4504  公司新闻佳士得宣布亚洲区领导层晋升委任魏蔚女士被委任...  2807239535        4\n",
       "4779  佳士得高价频现但艺术市场依旧稳健上半年佳士得拍卖成交...  2807239535        4\n",
       "5537  新晋藏家入场佳士得上半年成交亿美元截至月日佳士得国际...  2807239535        4\n",
       "5538  佳士得新闻佳士得今日公布上半年度业绩报告截至月日上半...  2807239535        4\n",
       "6398  如何整治校园贷关于校园贷的一段视频每个大学生都该看看...  5563089830        4\n",
       "6416  教育行业每日盘点教育行业那些事儿教育在于解决人类知识...  5563089830        4\n",
       "6417  教育头条年我国教育事业将在哪些方面着力突破哪些难点在...  5563089830        4\n",
       "6419  劝阻吸烟老人猝死案例段某在电梯内吸烟杨某对其进行劝阻...  5563089830        4\n",
       "6877  初入职场遭遇潜规则是坦然接受还是坚决反对男生和女生的...  5563089830        4\n",
       "6963  教育新闻中青报调查幼儿园入园难有地方连基本资源都保证...  5563089830        4\n",
       "6969  伪中产争夺学区房背后伪中产争夺学区房背后超七成人士仍...  5563089830        4\n",
       "7001  高考招生专业现明显变化大数据网络安全等学科成新贵麦肯...  5563089830        4\n",
       "7090  出国留学精华赴美留学或需每年申请新签证衰衰衰据华盛顿...  5563089830        4\n",
       "7186  随着底层技术的开源深度学习的突破人工智能迎来第三次高...  5563089830        4\n",
       "7312  全球最具创新力大学排行榜中国大学排名大跃进心路透社发...  5563089830        4\n",
       "7389  扎克伯格在清华谈创业想要胜出应关注自己真正感兴趣的问...  5563089830        4\n",
       "7570  中国女留学生在日本被杀宣判前梳理江歌案庭审的关键细节...  5563089830        4\n",
       "7573  后考上研究生离职当天被同事砍死行凶者压力大他有责围观...  5563089830        4\n",
       "7574  考研还是就业什么影响了大学生择业超八成受访者认为工资...  5563089830        4\n",
       "7582  年教育行业关键词你想到了几个缩写教育行业这一年赴美上...  5563089830        4\n",
       "\n",
       "[165 rows x 3 columns]"
      ]
     },
     "execution_count": 64,
     "metadata": {},
     "output_type": "execute_result"
    }
   ],
   "source": [
    "# Car KOL\n",
    "test[['clean_text','user_id','predict']][test['predict']==4]"
   ]
  },
  {
   "cell_type": "code",
   "execution_count": 65,
   "metadata": {},
   "outputs": [
    {
     "data": {
      "text/plain": [
       "348"
      ]
     },
     "execution_count": 65,
     "metadata": {},
     "output_type": "execute_result"
    }
   ],
   "source": [
    "# Car KOL\n",
    "test[['clean_text','user_id','predict']][test['user_id']==1895520105].shape[0]"
   ]
  },
  {
   "cell_type": "code",
   "execution_count": 66,
   "metadata": {},
   "outputs": [
    {
     "name": "stderr",
     "output_type": "stream",
     "text": [
      "C:\\Users\\edwin\\Anaconda3\\lib\\site-packages\\ipykernel_launcher.py:2: UserWarning: Boolean Series key will be reindexed to match DataFrame index.\n",
      "  \n"
     ]
    },
    {
     "data": {
      "text/plain": [
       "328"
      ]
     },
     "execution_count": 66,
     "metadata": {},
     "output_type": "execute_result"
    }
   ],
   "source": [
    "# Car KOL pred\n",
    "test[['clean_text','user_id','predict']][test['user_id']==1895520105][test['predict']==10].shape[0]"
   ]
  },
  {
   "cell_type": "code",
   "execution_count": 67,
   "metadata": {},
   "outputs": [
    {
     "data": {
      "text/plain": [
       "221"
      ]
     },
     "execution_count": 67,
     "metadata": {},
     "output_type": "execute_result"
    }
   ],
   "source": [
    "# Golf KOL\n",
    "test[['clean_text','user_id','predict']][test['user_id']==1497996114].shape[0]"
   ]
  },
  {
   "cell_type": "code",
   "execution_count": 68,
   "metadata": {},
   "outputs": [
    {
     "name": "stderr",
     "output_type": "stream",
     "text": [
      "C:\\Users\\edwin\\Anaconda3\\lib\\site-packages\\ipykernel_launcher.py:2: UserWarning: Boolean Series key will be reindexed to match DataFrame index.\n",
      "  \n"
     ]
    },
    {
     "data": {
      "text/plain": [
       "212"
      ]
     },
     "execution_count": 68,
     "metadata": {},
     "output_type": "execute_result"
    }
   ],
   "source": [
    "# Golf KOL pred\n",
    "test[['clean_text','user_id','predict']][test['user_id']==1497996114][test['predict']==9].shape[0]"
   ]
  },
  {
   "cell_type": "code",
   "execution_count": 69,
   "metadata": {},
   "outputs": [
    {
     "data": {
      "text/plain": [
       "1340"
      ]
     },
     "execution_count": 69,
     "metadata": {},
     "output_type": "execute_result"
    }
   ],
   "source": [
    "# Education KOL\n",
    "test[['clean_text','user_id','predict']][test['user_id']==5563089830].shape[0]"
   ]
  },
  {
   "cell_type": "code",
   "execution_count": 70,
   "metadata": {},
   "outputs": [
    {
     "name": "stderr",
     "output_type": "stream",
     "text": [
      "C:\\Users\\edwin\\Anaconda3\\lib\\site-packages\\ipykernel_launcher.py:2: UserWarning: Boolean Series key will be reindexed to match DataFrame index.\n",
      "  \n"
     ]
    },
    {
     "data": {
      "text/plain": [
       "188"
      ]
     },
     "execution_count": 70,
     "metadata": {},
     "output_type": "execute_result"
    }
   ],
   "source": [
    "# Education KOL pred\n",
    "test[['clean_text','user_id','predict']][test['user_id']==5563089830][test['predict']==11].shape[0]"
   ]
  },
  {
   "cell_type": "code",
   "execution_count": 71,
   "metadata": {},
   "outputs": [
    {
     "name": "stderr",
     "output_type": "stream",
     "text": [
      "C:\\Users\\edwin\\Anaconda3\\lib\\site-packages\\ipykernel_launcher.py:2: UserWarning: Boolean Series key will be reindexed to match DataFrame index.\n",
      "  \n"
     ]
    },
    {
     "data": {
      "text/plain": [
       "674"
      ]
     },
     "execution_count": 71,
     "metadata": {},
     "output_type": "execute_result"
    }
   ],
   "source": [
    "# Education KOL pred\n",
    "test[['clean_text','user_id','predict']][test['user_id']==5563089830][test['predict']==12].shape[0]"
   ]
  },
  {
   "cell_type": "code",
   "execution_count": 72,
   "metadata": {},
   "outputs": [
    {
     "data": {
      "text/html": [
       "<div>\n",
       "<style scoped>\n",
       "    .dataframe tbody tr th:only-of-type {\n",
       "        vertical-align: middle;\n",
       "    }\n",
       "\n",
       "    .dataframe tbody tr th {\n",
       "        vertical-align: top;\n",
       "    }\n",
       "\n",
       "    .dataframe thead th {\n",
       "        text-align: right;\n",
       "    }\n",
       "</style>\n",
       "<table border=\"1\" class=\"dataframe\">\n",
       "  <thead>\n",
       "    <tr style=\"text-align: right;\">\n",
       "      <th></th>\n",
       "      <th>clean_text</th>\n",
       "      <th>user_id</th>\n",
       "      <th>predict</th>\n",
       "    </tr>\n",
       "  </thead>\n",
       "  <tbody>\n",
       "    <tr>\n",
       "      <th>522</th>\n",
       "      <td>经济美消费低迷恐至年底美国经济议会首席经济学家戈德斯...</td>\n",
       "      <td>1628009324</td>\n",
       "      <td>3</td>\n",
       "    </tr>\n",
       "    <tr>\n",
       "      <th>694</th>\n",
       "      <td>中国的新领导集体和改革高盛投资公司高级中国经济学家李...</td>\n",
       "      <td>1628009324</td>\n",
       "      <td>3</td>\n",
       "    </tr>\n",
       "    <tr>\n",
       "      <th>719</th>\n",
       "      <td>欧元集团主席法国需要加速改革上周六七国财长和央行官员...</td>\n",
       "      <td>1628009324</td>\n",
       "      <td>3</td>\n",
       "    </tr>\n",
       "    <tr>\n",
       "      <th>990</th>\n",
       "      <td>中国工业利润五月超预期大幅上升中国五月份工业利润数据...</td>\n",
       "      <td>1628009324</td>\n",
       "      <td>3</td>\n",
       "    </tr>\n",
       "    <tr>\n",
       "      <th>998</th>\n",
       "      <td>中国经济放缓印度成赢家世界第二大经济体中国经济放缓加...</td>\n",
       "      <td>1628009324</td>\n",
       "      <td>3</td>\n",
       "    </tr>\n",
       "    <tr>\n",
       "      <th>1131</th>\n",
       "      <td>中国正在保持经济平衡发展纽约大学斯特恩商学院经济学教...</td>\n",
       "      <td>1628009324</td>\n",
       "      <td>3</td>\n",
       "    </tr>\n",
       "    <tr>\n",
       "      <th>1160</th>\n",
       "      <td>中国可以实现真正的经济增长吗金融分析公司高级中国经济...</td>\n",
       "      <td>1628009324</td>\n",
       "      <td>3</td>\n",
       "    </tr>\n",
       "    <tr>\n",
       "      <th>1218</th>\n",
       "      <td>欧洲下一步面临什么欧洲工商管理学院经济学教授安东尼奥...</td>\n",
       "      <td>1628009324</td>\n",
       "      <td>3</td>\n",
       "    </tr>\n",
       "    <tr>\n",
       "      <th>1484</th>\n",
       "      <td>美国消费者已死库德洛报告显示去年月至今年月美国实际消...</td>\n",
       "      <td>1628009324</td>\n",
       "      <td>3</td>\n",
       "    </tr>\n",
       "    <tr>\n",
       "      <th>1487</th>\n",
       "      <td>访谈欧元区危机应迅速解决专访德意志银行约瑟夫阿科尔曼...</td>\n",
       "      <td>1628009324</td>\n",
       "      <td>3</td>\n",
       "    </tr>\n",
       "    <tr>\n",
       "      <th>1494</th>\n",
       "      <td>视频泰国反对党大胜或加剧通胀瑞士信贷泰国经济学家表示...</td>\n",
       "      <td>1628009324</td>\n",
       "      <td>3</td>\n",
       "    </tr>\n",
       "    <tr>\n",
       "      <th>1588</th>\n",
       "      <td>最危险的十年美国马里兰大学战略学教授阿尼尔古普塔周一...</td>\n",
       "      <td>1628009324</td>\n",
       "      <td>3</td>\n",
       "    </tr>\n",
       "  </tbody>\n",
       "</table>\n",
       "</div>"
      ],
      "text/plain": [
       "                         clean_text     user_id  predict\n",
       "522   经济美消费低迷恐至年底美国经济议会首席经济学家戈德斯...  1628009324        3\n",
       "694   中国的新领导集体和改革高盛投资公司高级中国经济学家李...  1628009324        3\n",
       "719   欧元集团主席法国需要加速改革上周六七国财长和央行官员...  1628009324        3\n",
       "990   中国工业利润五月超预期大幅上升中国五月份工业利润数据...  1628009324        3\n",
       "998   中国经济放缓印度成赢家世界第二大经济体中国经济放缓加...  1628009324        3\n",
       "1131  中国正在保持经济平衡发展纽约大学斯特恩商学院经济学教...  1628009324        3\n",
       "1160  中国可以实现真正的经济增长吗金融分析公司高级中国经济...  1628009324        3\n",
       "1218  欧洲下一步面临什么欧洲工商管理学院经济学教授安东尼奥...  1628009324        3\n",
       "1484  美国消费者已死库德洛报告显示去年月至今年月美国实际消...  1628009324        3\n",
       "1487  访谈欧元区危机应迅速解决专访德意志银行约瑟夫阿科尔曼...  1628009324        3\n",
       "1494  视频泰国反对党大胜或加剧通胀瑞士信贷泰国经济学家表示...  1628009324        3\n",
       "1588  最危险的十年美国马里兰大学战略学教授阿尼尔古普塔周一...  1628009324        3"
      ]
     },
     "execution_count": 72,
     "metadata": {},
     "output_type": "execute_result"
    }
   ],
   "source": [
    "# Education KOL pred\n",
    "test[['clean_text','user_id','predict']][test['predict']==3]"
   ]
  },
  {
   "cell_type": "code",
   "execution_count": 73,
   "metadata": {},
   "outputs": [],
   "source": [
    "output = test[['id','predict']]"
   ]
  },
  {
   "cell_type": "code",
   "execution_count": 74,
   "metadata": {},
   "outputs": [],
   "source": [
    "output.to_csv('prediction.txt', header=False, index=False, sep=\"\\t\")"
   ]
  },
  {
   "cell_type": "code",
   "execution_count": 75,
   "metadata": {},
   "outputs": [
    {
     "data": {
      "text/plain": [
       "0"
      ]
     },
     "execution_count": 75,
     "metadata": {},
     "output_type": "execute_result"
    }
   ],
   "source": [
    "gc.collect()"
   ]
  },
  {
   "cell_type": "code",
   "execution_count": 106,
   "metadata": {},
   "outputs": [],
   "source": [
    "comment = pd.read_json('UBS Weibo Data//weibo//Status_Data9_Comment_Data_with_city_code.json', encoding= 'UTF-8')\n",
    "task = pd.read_json('UBS Weibo Data//weibo//task-status.json', encoding= 'UTF-8')\n",
    "city = pd.read_json('UBS Weibo Data//weibo//weibo-china-province-city.json', encoding= 'UTF-8')"
   ]
  },
  {
   "cell_type": "code",
   "execution_count": 107,
   "metadata": {},
   "outputs": [
    {
     "data": {
      "text/html": [
       "<div>\n",
       "<style scoped>\n",
       "    .dataframe tbody tr th:only-of-type {\n",
       "        vertical-align: middle;\n",
       "    }\n",
       "\n",
       "    .dataframe tbody tr th {\n",
       "        vertical-align: top;\n",
       "    }\n",
       "\n",
       "    .dataframe thead th {\n",
       "        text-align: right;\n",
       "    }\n",
       "</style>\n",
       "<table border=\"1\" class=\"dataframe\">\n",
       "  <thead>\n",
       "    <tr style=\"text-align: right;\">\n",
       "      <th></th>\n",
       "      <th>cid</th>\n",
       "      <th>u_city</th>\n",
       "      <th>u_name</th>\n",
       "      <th>u_province</th>\n",
       "      <th>uid</th>\n",
       "    </tr>\n",
       "  </thead>\n",
       "  <tbody>\n",
       "    <tr>\n",
       "      <th>0</th>\n",
       "      <td>G6RevbiBE</td>\n",
       "      <td>2</td>\n",
       "      <td>了不起的查尔斯</td>\n",
       "      <td>11</td>\n",
       "      <td>5048555731</td>\n",
       "    </tr>\n",
       "    <tr>\n",
       "      <th>1</th>\n",
       "      <td>G6RevbiBE</td>\n",
       "      <td>5</td>\n",
       "      <td>Pokerface1001</td>\n",
       "      <td>11</td>\n",
       "      <td>3211419333</td>\n",
       "    </tr>\n",
       "    <tr>\n",
       "      <th>2</th>\n",
       "      <td>G6RevbiBE</td>\n",
       "      <td>2</td>\n",
       "      <td>了不起的查尔斯</td>\n",
       "      <td>11</td>\n",
       "      <td>5048555731</td>\n",
       "    </tr>\n",
       "    <tr>\n",
       "      <th>3</th>\n",
       "      <td>G6QJ1aa2Z</td>\n",
       "      <td>3</td>\n",
       "      <td>飞马1515</td>\n",
       "      <td>44</td>\n",
       "      <td>5583941399</td>\n",
       "    </tr>\n",
       "    <tr>\n",
       "      <th>4</th>\n",
       "      <td>G9Ob5sz8r</td>\n",
       "      <td>1000</td>\n",
       "      <td>原来是酱紫的呀</td>\n",
       "      <td>400</td>\n",
       "      <td>5364706506</td>\n",
       "    </tr>\n",
       "  </tbody>\n",
       "</table>\n",
       "</div>"
      ],
      "text/plain": [
       "         cid u_city         u_name u_province         uid\n",
       "0  G6RevbiBE      2        了不起的查尔斯         11  5048555731\n",
       "1  G6RevbiBE      5  Pokerface1001         11  3211419333\n",
       "2  G6RevbiBE      2        了不起的查尔斯         11  5048555731\n",
       "3  G6QJ1aa2Z      3         飞马1515         44  5583941399\n",
       "4  G9Ob5sz8r   1000        原来是酱紫的呀        400  5364706506"
      ]
     },
     "execution_count": 107,
     "metadata": {},
     "output_type": "execute_result"
    }
   ],
   "source": [
    "comment.head()"
   ]
  },
  {
   "cell_type": "code",
   "execution_count": 108,
   "metadata": {},
   "outputs": [
    {
     "data": {
      "text/plain": [
       "(17400, 5)"
      ]
     },
     "execution_count": 108,
     "metadata": {},
     "output_type": "execute_result"
    }
   ],
   "source": [
    "comment.shape"
   ]
  },
  {
   "cell_type": "code",
   "execution_count": 109,
   "metadata": {},
   "outputs": [
    {
     "data": {
      "text/html": [
       "<div>\n",
       "<style scoped>\n",
       "    .dataframe tbody tr th:only-of-type {\n",
       "        vertical-align: middle;\n",
       "    }\n",
       "\n",
       "    .dataframe tbody tr th {\n",
       "        vertical-align: top;\n",
       "    }\n",
       "\n",
       "    .dataframe thead th {\n",
       "        text-align: right;\n",
       "    }\n",
       "</style>\n",
       "<table border=\"1\" class=\"dataframe\">\n",
       "  <thead>\n",
       "    <tr style=\"text-align: right;\">\n",
       "      <th></th>\n",
       "      <th>comments_count</th>\n",
       "      <th>created_at</th>\n",
       "      <th>likes_count</th>\n",
       "      <th>retweets_count</th>\n",
       "      <th>s_text</th>\n",
       "      <th>sid</th>\n",
       "      <th>u_name</th>\n",
       "      <th>uid</th>\n",
       "    </tr>\n",
       "  </thead>\n",
       "  <tbody>\n",
       "    <tr>\n",
       "      <th>1839</th>\n",
       "      <td>27</td>\n",
       "      <td>2018-02-20 12:15:00</td>\n",
       "      <td>87</td>\n",
       "      <td>138</td>\n",
       "      <td>:不了解人类货币史，就别拿数字货币乱吹牛不了解人类货...</td>\n",
       "      <td>G41AkmPXo</td>\n",
       "      <td>凤凰网财经</td>\n",
       "      <td>1988800805</td>\n",
       "    </tr>\n",
       "    <tr>\n",
       "      <th>4467</th>\n",
       "      <td>0</td>\n",
       "      <td>2018-03-01 13:43:00</td>\n",
       "      <td>23</td>\n",
       "      <td>8</td>\n",
       "      <td>:#2018春拍##香港蘇富比# 中国艺术品2018...</td>\n",
       "      <td>G5p0Plquu</td>\n",
       "      <td>蘇富比拍卖行</td>\n",
       "      <td>2308351693</td>\n",
       "    </tr>\n",
       "    <tr>\n",
       "      <th>3709</th>\n",
       "      <td>22</td>\n",
       "      <td>2018-04-06 03:49:00</td>\n",
       "      <td>11</td>\n",
       "      <td>20</td>\n",
       "      <td>:#车祸现场# 加西亚15号洞四次下水回顾。。。单洞...</td>\n",
       "      <td>GaOvpqMyC</td>\n",
       "      <td>新浪高尔夫</td>\n",
       "      <td>1497996114</td>\n",
       "    </tr>\n",
       "    <tr>\n",
       "      <th>2911</th>\n",
       "      <td>11</td>\n",
       "      <td>2018-03-12 23:02:00</td>\n",
       "      <td>26</td>\n",
       "      <td>11</td>\n",
       "      <td>:【马化腾建议的“进阶史”：数万字建议 涉及八大领域...</td>\n",
       "      <td>G78nbhs6O</td>\n",
       "      <td>凤凰网财经</td>\n",
       "      <td>1988800805</td>\n",
       "    </tr>\n",
       "    <tr>\n",
       "      <th>3720</th>\n",
       "      <td>18</td>\n",
       "      <td>2018-03-20 14:00:00</td>\n",
       "      <td>57</td>\n",
       "      <td>59</td>\n",
       "      <td>:【凤凰 夜读】李敖去世：这种能力，比你的出身和智商...</td>\n",
       "      <td>G8ieQDKnG</td>\n",
       "      <td>凤凰网财经</td>\n",
       "      <td>1988800805</td>\n",
       "    </tr>\n",
       "    <tr>\n",
       "      <th>3600</th>\n",
       "      <td>287</td>\n",
       "      <td>2018-04-03 11:31:00</td>\n",
       "      <td>63</td>\n",
       "      <td>1174</td>\n",
       "      <td>:抽奖啦！！！TaylorMade邀请您一同关注#美...</td>\n",
       "      <td>GapfEAblp</td>\n",
       "      <td>新浪高尔夫</td>\n",
       "      <td>1497996114</td>\n",
       "    </tr>\n",
       "    <tr>\n",
       "      <th>4222</th>\n",
       "      <td>0</td>\n",
       "      <td>2018-03-30 01:16:00</td>\n",
       "      <td>0</td>\n",
       "      <td>0</td>\n",
       "      <td>:#集智入微#去年秋季，爱普生发布了主题为“集智入微...</td>\n",
       "      <td>G9JvNamHS</td>\n",
       "      <td>凤凰网财经</td>\n",
       "      <td>1988800805</td>\n",
       "    </tr>\n",
       "    <tr>\n",
       "      <th>1683</th>\n",
       "      <td>5</td>\n",
       "      <td>2018-02-27 08:00:00</td>\n",
       "      <td>7</td>\n",
       "      <td>4</td>\n",
       "      <td>:【邓海清：监管对债市影响高峰已过 国债3.8以上闭...</td>\n",
       "      <td>G53UiuHfT</td>\n",
       "      <td>凤凰网财经</td>\n",
       "      <td>1988800805</td>\n",
       "    </tr>\n",
       "    <tr>\n",
       "      <th>2251</th>\n",
       "      <td>1</td>\n",
       "      <td>2018-03-14 23:54:00</td>\n",
       "      <td>9</td>\n",
       "      <td>2</td>\n",
       "      <td>:#少儿英语学习季#英文绘本阅读怎么启蒙？拼词训练你...</td>\n",
       "      <td>G7rz1u3jS</td>\n",
       "      <td>微博教育</td>\n",
       "      <td>5563089830</td>\n",
       "    </tr>\n",
       "    <tr>\n",
       "      <th>4497</th>\n",
       "      <td>14</td>\n",
       "      <td>2018-03-27 19:28:00</td>\n",
       "      <td>38</td>\n",
       "      <td>33</td>\n",
       "      <td>:#2018春拍##香港蘇富比#将呈献「钩沉帝宝——...</td>\n",
       "      <td>G9onNiaY0</td>\n",
       "      <td>蘇富比拍卖行</td>\n",
       "      <td>2308351693</td>\n",
       "    </tr>\n",
       "  </tbody>\n",
       "</table>\n",
       "</div>"
      ],
      "text/plain": [
       "      comments_count          created_at  likes_count  retweets_count  \\\n",
       "1839              27 2018-02-20 12:15:00           87             138   \n",
       "4467               0 2018-03-01 13:43:00           23               8   \n",
       "3709              22 2018-04-06 03:49:00           11              20   \n",
       "2911              11 2018-03-12 23:02:00           26              11   \n",
       "3720              18 2018-03-20 14:00:00           57              59   \n",
       "3600             287 2018-04-03 11:31:00           63            1174   \n",
       "4222               0 2018-03-30 01:16:00            0               0   \n",
       "1683               5 2018-02-27 08:00:00            7               4   \n",
       "2251               1 2018-03-14 23:54:00            9               2   \n",
       "4497              14 2018-03-27 19:28:00           38              33   \n",
       "\n",
       "                             s_text        sid  u_name         uid  \n",
       "1839  :不了解人类货币史，就别拿数字货币乱吹牛不了解人类货...  G41AkmPXo   凤凰网财经  1988800805  \n",
       "4467  :#2018春拍##香港蘇富比# 中国艺术品2018...  G5p0Plquu  蘇富比拍卖行  2308351693  \n",
       "3709  :#车祸现场# 加西亚15号洞四次下水回顾。。。单洞...  GaOvpqMyC   新浪高尔夫  1497996114  \n",
       "2911  :【马化腾建议的“进阶史”：数万字建议 涉及八大领域...  G78nbhs6O   凤凰网财经  1988800805  \n",
       "3720  :【凤凰 夜读】李敖去世：这种能力，比你的出身和智商...  G8ieQDKnG   凤凰网财经  1988800805  \n",
       "3600  :抽奖啦！！！TaylorMade邀请您一同关注#美...  GapfEAblp   新浪高尔夫  1497996114  \n",
       "4222  :#集智入微#去年秋季，爱普生发布了主题为“集智入微...  G9JvNamHS   凤凰网财经  1988800805  \n",
       "1683  :【邓海清：监管对债市影响高峰已过 国债3.8以上闭...  G53UiuHfT   凤凰网财经  1988800805  \n",
       "2251  :#少儿英语学习季#英文绘本阅读怎么启蒙？拼词训练你...  G7rz1u3jS    微博教育  5563089830  \n",
       "4497  :#2018春拍##香港蘇富比#将呈献「钩沉帝宝——...  G9onNiaY0  蘇富比拍卖行  2308351693  "
      ]
     },
     "execution_count": 109,
     "metadata": {},
     "output_type": "execute_result"
    }
   ],
   "source": [
    "task.sample(10)"
   ]
  },
  {
   "cell_type": "code",
   "execution_count": 110,
   "metadata": {},
   "outputs": [
    {
     "data": {
      "text/html": [
       "<div>\n",
       "<style scoped>\n",
       "    .dataframe tbody tr th:only-of-type {\n",
       "        vertical-align: middle;\n",
       "    }\n",
       "\n",
       "    .dataframe tbody tr th {\n",
       "        vertical-align: top;\n",
       "    }\n",
       "\n",
       "    .dataframe thead th {\n",
       "        text-align: right;\n",
       "    }\n",
       "</style>\n",
       "<table border=\"1\" class=\"dataframe\">\n",
       "  <thead>\n",
       "    <tr style=\"text-align: right;\">\n",
       "      <th></th>\n",
       "      <th>comments_count</th>\n",
       "      <th>created_at</th>\n",
       "      <th>likes_count</th>\n",
       "      <th>retweets_count</th>\n",
       "      <th>s_text</th>\n",
       "      <th>sid</th>\n",
       "      <th>u_name</th>\n",
       "      <th>uid</th>\n",
       "    </tr>\n",
       "  </thead>\n",
       "  <tbody>\n",
       "    <tr>\n",
       "      <th>0</th>\n",
       "      <td>20</td>\n",
       "      <td>2018-02-28 23:59:00</td>\n",
       "      <td>16</td>\n",
       "      <td>16</td>\n",
       "      <td>:【科技独角兽IPO\"即报即审\"？10大巨头万亿市值...</td>\n",
       "      <td>G5jCq7d7M</td>\n",
       "      <td>凤凰网财经</td>\n",
       "      <td>1988800805</td>\n",
       "    </tr>\n",
       "    <tr>\n",
       "      <th>1</th>\n",
       "      <td>10</td>\n",
       "      <td>2018-03-19 01:43:00</td>\n",
       "      <td>21</td>\n",
       "      <td>8</td>\n",
       "      <td>:宝骏530前一阵子刚刚公布了售价，并且外形采用了和...</td>\n",
       "      <td>G83Zh7dWB</td>\n",
       "      <td>爱极客</td>\n",
       "      <td>1895520105</td>\n",
       "    </tr>\n",
       "    <tr>\n",
       "      <th>2</th>\n",
       "      <td>63</td>\n",
       "      <td>2018-02-09 04:20:00</td>\n",
       "      <td>36</td>\n",
       "      <td>114</td>\n",
       "      <td>:【恒大打响2018房企大规模促销第一枪 全国楼盘8...</td>\n",
       "      <td>G2iM478Ip</td>\n",
       "      <td>凤凰网财经</td>\n",
       "      <td>1988800805</td>\n",
       "    </tr>\n",
       "    <tr>\n",
       "      <th>3</th>\n",
       "      <td>1</td>\n",
       "      <td>2018-04-07 05:40:00</td>\n",
       "      <td>11</td>\n",
       "      <td>2</td>\n",
       "      <td>:#美国大师赛#15号洞(没错，就是加西亚爆出+8那...</td>\n",
       "      <td>GaYEQ8hI3</td>\n",
       "      <td>新浪高尔夫</td>\n",
       "      <td>1497996114</td>\n",
       "    </tr>\n",
       "    <tr>\n",
       "      <th>4</th>\n",
       "      <td>31</td>\n",
       "      <td>2018-02-09 03:56:00</td>\n",
       "      <td>19</td>\n",
       "      <td>14</td>\n",
       "      <td>:【午评：权重跳水个股普跌 沪指重挫近6%后回升】受...</td>\n",
       "      <td>G2iCowAOT</td>\n",
       "      <td>凤凰网财经</td>\n",
       "      <td>1988800805</td>\n",
       "    </tr>\n",
       "  </tbody>\n",
       "</table>\n",
       "</div>"
      ],
      "text/plain": [
       "   comments_count          created_at  likes_count  retweets_count  \\\n",
       "0              20 2018-02-28 23:59:00           16              16   \n",
       "1              10 2018-03-19 01:43:00           21               8   \n",
       "2              63 2018-02-09 04:20:00           36             114   \n",
       "3               1 2018-04-07 05:40:00           11               2   \n",
       "4              31 2018-02-09 03:56:00           19              14   \n",
       "\n",
       "                          s_text        sid u_name         uid  \n",
       "0  :【科技独角兽IPO\"即报即审\"？10大巨头万亿市值...  G5jCq7d7M  凤凰网财经  1988800805  \n",
       "1  :宝骏530前一阵子刚刚公布了售价，并且外形采用了和...  G83Zh7dWB    爱极客  1895520105  \n",
       "2  :【恒大打响2018房企大规模促销第一枪 全国楼盘8...  G2iM478Ip  凤凰网财经  1988800805  \n",
       "3  :#美国大师赛#15号洞(没错，就是加西亚爆出+8那...  GaYEQ8hI3  新浪高尔夫  1497996114  \n",
       "4  :【午评：权重跳水个股普跌 沪指重挫近6%后回升】受...  G2iCowAOT  凤凰网财经  1988800805  "
      ]
     },
     "execution_count": 110,
     "metadata": {},
     "output_type": "execute_result"
    }
   ],
   "source": [
    "task.head(5)"
   ]
  },
  {
   "cell_type": "code",
   "execution_count": 111,
   "metadata": {},
   "outputs": [],
   "source": [
    "task['clean_text'] = task['s_text'].apply(clean)\n",
    "uid_dum = pd.get_dummies(task.uid)\n",
    "task = pd.merge(task,uid_dum, left_index=True, right_index=True)"
   ]
  },
  {
   "cell_type": "code",
   "execution_count": 112,
   "metadata": {},
   "outputs": [],
   "source": [
    "X_task = []\n",
    "for i in task.clean_text:\n",
    "    X_task.append(rm_tokens([j for j in jieba.cut_for_search(i)]))\n",
    "    \n",
    "encoded_docs_task = t.texts_to_sequences(X_task)\n",
    "padded_docs_combined_task = pad_sequences(encoded_docs_task, maxlen=100, padding='post')"
   ]
  },
  {
   "cell_type": "code",
   "execution_count": 113,
   "metadata": {},
   "outputs": [],
   "source": [
    "X_task_text = padded_docs_combined_task\n",
    "X_task_uid = task.iloc[:,9:]"
   ]
  },
  {
   "cell_type": "code",
   "execution_count": 115,
   "metadata": {},
   "outputs": [],
   "source": [
    "for i in X_test_uid.columns:\n",
    "    if i not in X_task_uid.columns:\n",
    "        X_task_uid[i] = np.zeros(X_task_uid.shape[0])\n",
    "        X_task_uid[i] = X_task_uid[i].apply(int).apply(str)"
   ]
  },
  {
   "cell_type": "code",
   "execution_count": 121,
   "metadata": {},
   "outputs": [
    {
     "name": "stderr",
     "output_type": "stream",
     "text": [
      "C:\\Users\\edwin\\Anaconda3\\lib\\site-packages\\ipykernel_launcher.py:1: FutureWarning: '.reindex_axis' is deprecated and will be removed in a future version. Use '.reindex' instead.\n",
      "  \"\"\"Entry point for launching an IPython kernel.\n"
     ]
    }
   ],
   "source": [
    "X_task_uid = X_task_uid.reindex_axis(sorted(X_test_uid.columns), axis=1)"
   ]
  },
  {
   "cell_type": "code",
   "execution_count": 122,
   "metadata": {},
   "outputs": [
    {
     "data": {
      "text/html": [
       "<div>\n",
       "<style scoped>\n",
       "    .dataframe tbody tr th:only-of-type {\n",
       "        vertical-align: middle;\n",
       "    }\n",
       "\n",
       "    .dataframe tbody tr th {\n",
       "        vertical-align: top;\n",
       "    }\n",
       "\n",
       "    .dataframe thead th {\n",
       "        text-align: right;\n",
       "    }\n",
       "</style>\n",
       "<table border=\"1\" class=\"dataframe\">\n",
       "  <thead>\n",
       "    <tr style=\"text-align: right;\">\n",
       "      <th></th>\n",
       "      <th>1497996114</th>\n",
       "      <th>1628009324</th>\n",
       "      <th>1881938674</th>\n",
       "      <th>1895520105</th>\n",
       "      <th>1988800805</th>\n",
       "      <th>2308351693</th>\n",
       "      <th>2807239535</th>\n",
       "      <th>5563089830</th>\n",
       "    </tr>\n",
       "  </thead>\n",
       "  <tbody>\n",
       "    <tr>\n",
       "      <th>0</th>\n",
       "      <td>0</td>\n",
       "      <td>0</td>\n",
       "      <td>0</td>\n",
       "      <td>0</td>\n",
       "      <td>1</td>\n",
       "      <td>0</td>\n",
       "      <td>0</td>\n",
       "      <td>0</td>\n",
       "    </tr>\n",
       "    <tr>\n",
       "      <th>1</th>\n",
       "      <td>0</td>\n",
       "      <td>0</td>\n",
       "      <td>0</td>\n",
       "      <td>1</td>\n",
       "      <td>0</td>\n",
       "      <td>0</td>\n",
       "      <td>0</td>\n",
       "      <td>0</td>\n",
       "    </tr>\n",
       "    <tr>\n",
       "      <th>2</th>\n",
       "      <td>0</td>\n",
       "      <td>0</td>\n",
       "      <td>0</td>\n",
       "      <td>0</td>\n",
       "      <td>1</td>\n",
       "      <td>0</td>\n",
       "      <td>0</td>\n",
       "      <td>0</td>\n",
       "    </tr>\n",
       "    <tr>\n",
       "      <th>3</th>\n",
       "      <td>1</td>\n",
       "      <td>0</td>\n",
       "      <td>0</td>\n",
       "      <td>0</td>\n",
       "      <td>0</td>\n",
       "      <td>0</td>\n",
       "      <td>0</td>\n",
       "      <td>0</td>\n",
       "    </tr>\n",
       "    <tr>\n",
       "      <th>4</th>\n",
       "      <td>0</td>\n",
       "      <td>0</td>\n",
       "      <td>0</td>\n",
       "      <td>0</td>\n",
       "      <td>1</td>\n",
       "      <td>0</td>\n",
       "      <td>0</td>\n",
       "      <td>0</td>\n",
       "    </tr>\n",
       "  </tbody>\n",
       "</table>\n",
       "</div>"
      ],
      "text/plain": [
       "   1497996114 1628009324 1881938674  1895520105  1988800805  2308351693  \\\n",
       "0           0          0          0           0           1           0   \n",
       "1           0          0          0           1           0           0   \n",
       "2           0          0          0           0           1           0   \n",
       "3           1          0          0           0           0           0   \n",
       "4           0          0          0           0           1           0   \n",
       "\n",
       "   2807239535  5563089830  \n",
       "0           0           0  \n",
       "1           0           0  \n",
       "2           0           0  \n",
       "3           0           0  \n",
       "4           0           0  "
      ]
     },
     "execution_count": 122,
     "metadata": {},
     "output_type": "execute_result"
    }
   ],
   "source": [
    "X_task_uid.head()"
   ]
  },
  {
   "cell_type": "code",
   "execution_count": 123,
   "metadata": {},
   "outputs": [],
   "source": [
    "y_pred = model.predict([X_task_text, X_task_uid])"
   ]
  },
  {
   "cell_type": "code",
   "execution_count": 124,
   "metadata": {},
   "outputs": [],
   "source": [
    "task['predict'] = np.argmax(y_pred, axis=1)"
   ]
  },
  {
   "cell_type": "code",
   "execution_count": 125,
   "metadata": {},
   "outputs": [
    {
     "data": {
      "text/html": [
       "<div>\n",
       "<style scoped>\n",
       "    .dataframe tbody tr th:only-of-type {\n",
       "        vertical-align: middle;\n",
       "    }\n",
       "\n",
       "    .dataframe tbody tr th {\n",
       "        vertical-align: top;\n",
       "    }\n",
       "\n",
       "    .dataframe thead th {\n",
       "        text-align: right;\n",
       "    }\n",
       "</style>\n",
       "<table border=\"1\" class=\"dataframe\">\n",
       "  <thead>\n",
       "    <tr style=\"text-align: right;\">\n",
       "      <th></th>\n",
       "      <th>comments_count</th>\n",
       "      <th>created_at</th>\n",
       "      <th>likes_count</th>\n",
       "      <th>retweets_count</th>\n",
       "      <th>s_text</th>\n",
       "      <th>sid</th>\n",
       "      <th>u_name</th>\n",
       "      <th>uid</th>\n",
       "      <th>clean_text</th>\n",
       "      <th>1497996114</th>\n",
       "      <th>1895520105</th>\n",
       "      <th>1988800805</th>\n",
       "      <th>2308351693</th>\n",
       "      <th>2807239535</th>\n",
       "      <th>5563089830</th>\n",
       "      <th>predict</th>\n",
       "    </tr>\n",
       "  </thead>\n",
       "  <tbody>\n",
       "    <tr>\n",
       "      <th>0</th>\n",
       "      <td>20</td>\n",
       "      <td>2018-02-28 23:59:00</td>\n",
       "      <td>16</td>\n",
       "      <td>16</td>\n",
       "      <td>:【科技独角兽IPO\"即报即审\"？10大巨头万亿市值...</td>\n",
       "      <td>G5jCq7d7M</td>\n",
       "      <td>凤凰网财经</td>\n",
       "      <td>1988800805</td>\n",
       "      <td>科技独角兽即报即审大巨头万亿市值待开发前有借壳今日正...</td>\n",
       "      <td>0</td>\n",
       "      <td>0</td>\n",
       "      <td>1</td>\n",
       "      <td>0</td>\n",
       "      <td>0</td>\n",
       "      <td>0</td>\n",
       "      <td>8</td>\n",
       "    </tr>\n",
       "    <tr>\n",
       "      <th>1</th>\n",
       "      <td>10</td>\n",
       "      <td>2018-03-19 01:43:00</td>\n",
       "      <td>21</td>\n",
       "      <td>8</td>\n",
       "      <td>:宝骏530前一阵子刚刚公布了售价，并且外形采用了和...</td>\n",
       "      <td>G83Zh7dWB</td>\n",
       "      <td>爱极客</td>\n",
       "      <td>1895520105</td>\n",
       "      <td>宝骏前一阵子刚刚公布了售价并且外形采用了和一样的家族...</td>\n",
       "      <td>0</td>\n",
       "      <td>1</td>\n",
       "      <td>0</td>\n",
       "      <td>0</td>\n",
       "      <td>0</td>\n",
       "      <td>0</td>\n",
       "      <td>10</td>\n",
       "    </tr>\n",
       "    <tr>\n",
       "      <th>2</th>\n",
       "      <td>63</td>\n",
       "      <td>2018-02-09 04:20:00</td>\n",
       "      <td>36</td>\n",
       "      <td>114</td>\n",
       "      <td>:【恒大打响2018房企大规模促销第一枪 全国楼盘8...</td>\n",
       "      <td>G2iM478Ip</td>\n",
       "      <td>凤凰网财经</td>\n",
       "      <td>1988800805</td>\n",
       "      <td>恒大打响房企大规模促销第一枪全国楼盘折优惠恒大已在房...</td>\n",
       "      <td>0</td>\n",
       "      <td>0</td>\n",
       "      <td>1</td>\n",
       "      <td>0</td>\n",
       "      <td>0</td>\n",
       "      <td>0</td>\n",
       "      <td>8</td>\n",
       "    </tr>\n",
       "    <tr>\n",
       "      <th>3</th>\n",
       "      <td>1</td>\n",
       "      <td>2018-04-07 05:40:00</td>\n",
       "      <td>11</td>\n",
       "      <td>2</td>\n",
       "      <td>:#美国大师赛#15号洞(没错，就是加西亚爆出+8那...</td>\n",
       "      <td>GaYEQ8hI3</td>\n",
       "      <td>新浪高尔夫</td>\n",
       "      <td>1497996114</td>\n",
       "      <td>美国大师赛号洞没错就是加西亚爆出那一洞马克利什曼成功...</td>\n",
       "      <td>1</td>\n",
       "      <td>0</td>\n",
       "      <td>0</td>\n",
       "      <td>0</td>\n",
       "      <td>0</td>\n",
       "      <td>0</td>\n",
       "      <td>9</td>\n",
       "    </tr>\n",
       "    <tr>\n",
       "      <th>4</th>\n",
       "      <td>31</td>\n",
       "      <td>2018-02-09 03:56:00</td>\n",
       "      <td>19</td>\n",
       "      <td>14</td>\n",
       "      <td>:【午评：权重跳水个股普跌 沪指重挫近6%后回升】受...</td>\n",
       "      <td>G2iCowAOT</td>\n",
       "      <td>凤凰网财经</td>\n",
       "      <td>1988800805</td>\n",
       "      <td>午评权重跳水个股普跌沪指重挫近后回升受海外股市低迷影...</td>\n",
       "      <td>0</td>\n",
       "      <td>0</td>\n",
       "      <td>1</td>\n",
       "      <td>0</td>\n",
       "      <td>0</td>\n",
       "      <td>0</td>\n",
       "      <td>0</td>\n",
       "    </tr>\n",
       "  </tbody>\n",
       "</table>\n",
       "</div>"
      ],
      "text/plain": [
       "   comments_count          created_at  likes_count  retweets_count  \\\n",
       "0              20 2018-02-28 23:59:00           16              16   \n",
       "1              10 2018-03-19 01:43:00           21               8   \n",
       "2              63 2018-02-09 04:20:00           36             114   \n",
       "3               1 2018-04-07 05:40:00           11               2   \n",
       "4              31 2018-02-09 03:56:00           19              14   \n",
       "\n",
       "                          s_text        sid u_name         uid  \\\n",
       "0  :【科技独角兽IPO\"即报即审\"？10大巨头万亿市值...  G5jCq7d7M  凤凰网财经  1988800805   \n",
       "1  :宝骏530前一阵子刚刚公布了售价，并且外形采用了和...  G83Zh7dWB    爱极客  1895520105   \n",
       "2  :【恒大打响2018房企大规模促销第一枪 全国楼盘8...  G2iM478Ip  凤凰网财经  1988800805   \n",
       "3  :#美国大师赛#15号洞(没错，就是加西亚爆出+8那...  GaYEQ8hI3  新浪高尔夫  1497996114   \n",
       "4  :【午评：权重跳水个股普跌 沪指重挫近6%后回升】受...  G2iCowAOT  凤凰网财经  1988800805   \n",
       "\n",
       "                      clean_text  1497996114  1895520105  1988800805  \\\n",
       "0  科技独角兽即报即审大巨头万亿市值待开发前有借壳今日正...           0           0           1   \n",
       "1  宝骏前一阵子刚刚公布了售价并且外形采用了和一样的家族...           0           1           0   \n",
       "2  恒大打响房企大规模促销第一枪全国楼盘折优惠恒大已在房...           0           0           1   \n",
       "3  美国大师赛号洞没错就是加西亚爆出那一洞马克利什曼成功...           1           0           0   \n",
       "4  午评权重跳水个股普跌沪指重挫近后回升受海外股市低迷影...           0           0           1   \n",
       "\n",
       "   2308351693  2807239535  5563089830  predict  \n",
       "0           0           0           0        8  \n",
       "1           0           0           0       10  \n",
       "2           0           0           0        8  \n",
       "3           0           0           0        9  \n",
       "4           0           0           0        0  "
      ]
     },
     "execution_count": 125,
     "metadata": {},
     "output_type": "execute_result"
    }
   ],
   "source": [
    "task.head()"
   ]
  },
  {
   "cell_type": "code",
   "execution_count": 130,
   "metadata": {},
   "outputs": [],
   "source": [
    "output = task[['sid','predict']]\n",
    "output.to_csv('prediction2.txt', header=False, index=False, sep=\"\\t\")"
   ]
  },
  {
   "cell_type": "code",
   "execution_count": 131,
   "metadata": {},
   "outputs": [
    {
     "data": {
      "text/html": [
       "<div>\n",
       "<style scoped>\n",
       "    .dataframe tbody tr th:only-of-type {\n",
       "        vertical-align: middle;\n",
       "    }\n",
       "\n",
       "    .dataframe tbody tr th {\n",
       "        vertical-align: top;\n",
       "    }\n",
       "\n",
       "    .dataframe thead th {\n",
       "        text-align: right;\n",
       "    }\n",
       "</style>\n",
       "<table border=\"1\" class=\"dataframe\">\n",
       "  <thead>\n",
       "    <tr style=\"text-align: right;\">\n",
       "      <th></th>\n",
       "      <th>sid</th>\n",
       "      <th>predict</th>\n",
       "    </tr>\n",
       "  </thead>\n",
       "  <tbody>\n",
       "    <tr>\n",
       "      <th>0</th>\n",
       "      <td>G5jCq7d7M</td>\n",
       "      <td>8</td>\n",
       "    </tr>\n",
       "    <tr>\n",
       "      <th>1</th>\n",
       "      <td>G83Zh7dWB</td>\n",
       "      <td>10</td>\n",
       "    </tr>\n",
       "    <tr>\n",
       "      <th>2</th>\n",
       "      <td>G2iM478Ip</td>\n",
       "      <td>8</td>\n",
       "    </tr>\n",
       "    <tr>\n",
       "      <th>3</th>\n",
       "      <td>GaYEQ8hI3</td>\n",
       "      <td>9</td>\n",
       "    </tr>\n",
       "    <tr>\n",
       "      <th>4</th>\n",
       "      <td>G2iCowAOT</td>\n",
       "      <td>0</td>\n",
       "    </tr>\n",
       "  </tbody>\n",
       "</table>\n",
       "</div>"
      ],
      "text/plain": [
       "         sid  predict\n",
       "0  G5jCq7d7M        8\n",
       "1  G83Zh7dWB       10\n",
       "2  G2iM478Ip        8\n",
       "3  GaYEQ8hI3        9\n",
       "4  G2iCowAOT        0"
      ]
     },
     "execution_count": 131,
     "metadata": {},
     "output_type": "execute_result"
    }
   ],
   "source": [
    "output.head()"
   ]
  },
  {
   "cell_type": "code",
   "execution_count": 133,
   "metadata": {},
   "outputs": [],
   "source": [
    "output = task[['sid','predict','likes_count','retweets_count']]\n",
    "output.to_csv('task.txt', header=False, index=False, sep=\"\\t\")"
   ]
  },
  {
   "cell_type": "code",
   "execution_count": 139,
   "metadata": {},
   "outputs": [],
   "source": [
    "df = pd.read_csv('prediction.txt',header=None, sep='\\t').append(pd.read_csv('prediction2.txt',header=None, sep='\\t'), ignore_index=True)"
   ]
  },
  {
   "cell_type": "code",
   "execution_count": 141,
   "metadata": {},
   "outputs": [],
   "source": [
    "df = df.drop_duplicates()"
   ]
  },
  {
   "cell_type": "code",
   "execution_count": 142,
   "metadata": {},
   "outputs": [],
   "source": [
    "df.to_csv(\"final_prediction.txt\", header=False, index=False, sep=\"\\t\")"
   ]
  },
  {
   "cell_type": "code",
   "execution_count": null,
   "metadata": {},
   "outputs": [],
   "source": []
  }
 ],
 "metadata": {
  "kernelspec": {
   "display_name": "Python 3",
   "language": "python",
   "name": "python3"
  },
  "language_info": {
   "codemirror_mode": {
    "name": "ipython",
    "version": 3
   },
   "file_extension": ".py",
   "mimetype": "text/x-python",
   "name": "python",
   "nbconvert_exporter": "python",
   "pygments_lexer": "ipython3",
   "version": "3.6.4"
  }
 },
 "nbformat": 4,
 "nbformat_minor": 2
}
